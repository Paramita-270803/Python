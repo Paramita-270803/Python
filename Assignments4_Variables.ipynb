{
  "nbformat": 4,
  "nbformat_minor": 0,
  "metadata": {
    "colab": {
      "provenance": []
    },
    "kernelspec": {
      "name": "python3",
      "display_name": "Python 3"
    },
    "language_info": {
      "name": "python"
    }
  },
  "cells": [
    {
      "cell_type": "markdown",
      "source": [
        "PARAMITA MONDAL"
      ],
      "metadata": {
        "id": "VR6XNB5dBl8f"
      }
    },
    {
      "cell_type": "code",
      "source": [
        "#1. Declare an integer variable `age` with the value 25.\n",
        "age=int(25)\n",
        "print(age)"
      ],
      "metadata": {
        "id": "TBEaCVw0mDC1",
        "colab": {
          "base_uri": "https://localhost:8080/"
        },
        "outputId": "80c48fa8-b8a7-4830-e1f5-e54ff39af3bc"
      },
      "execution_count": null,
      "outputs": [
        {
          "output_type": "stream",
          "name": "stdout",
          "text": [
            "25\n"
          ]
        }
      ]
    },
    {
      "cell_type": "code",
      "source": [
        "#2. Create a string variable `name` with your name as its value.\n",
        "name='Paro'\n",
        "print(name)"
      ],
      "metadata": {
        "colab": {
          "base_uri": "https://localhost:8080/"
        },
        "id": "dAYMZuUdCVby",
        "outputId": "2691efb4-d718-4cd7-ff2e-0604be7df5bb"
      },
      "execution_count": null,
      "outputs": [
        {
          "output_type": "stream",
          "name": "stdout",
          "text": [
            "Paro\n"
          ]
        }
      ]
    },
    {
      "cell_type": "code",
      "source": [
        "#3. Declare a list variable `fruits` containing three fruit names of your choice.\n",
        "fruits=['apple','mango','banana']\n",
        "fruits"
      ],
      "metadata": {
        "colab": {
          "base_uri": "https://localhost:8080/"
        },
        "id": "m843yNFxCczY",
        "outputId": "3f05dc03-c89d-4d2c-e254-c47ac99a9246"
      },
      "execution_count": null,
      "outputs": [
        {
          "output_type": "execute_result",
          "data": {
            "text/plain": [
              "['apple', 'mango', 'banana']"
            ]
          },
          "metadata": {},
          "execution_count": 5
        }
      ]
    },
    {
      "cell_type": "code",
      "source": [
        "#4. Write code to swap the values of two variables, `a` and `b`, without using a temporary variable.\n",
        "a=10\n",
        "b=20\n",
        "a=a+b\n",
        "b=a-b\n",
        "a=a-b\n",
        "print(\"a=\",a,\" b=\",b)"
      ],
      "metadata": {
        "colab": {
          "base_uri": "https://localhost:8080/"
        },
        "id": "tqrxQudICk6b",
        "outputId": "819f041d-2e39-4f00-aef0-ecc83b663251"
      },
      "execution_count": null,
      "outputs": [
        {
          "output_type": "stream",
          "name": "stdout",
          "text": [
            "a= 20  b= 10\n"
          ]
        }
      ]
    },
    {
      "cell_type": "code",
      "source": [
        "#5. Create a float variable `price` with the value 19.99\n",
        "price=19.99\n",
        "print(price)"
      ],
      "metadata": {
        "colab": {
          "base_uri": "https://localhost:8080/"
        },
        "id": "ZIs-H7TNCuDm",
        "outputId": "b08a8f13-5b57-473f-cdad-a4e7b93f1b1f"
      },
      "execution_count": null,
      "outputs": [
        {
          "output_type": "stream",
          "name": "stdout",
          "text": [
            "19.99\n"
          ]
        }
      ]
    },
    {
      "cell_type": "code",
      "source": [
        "#6. Define a boolean variable `is_student` and set it to `True`.\n",
        "is_student=True\n",
        "print(is_student)"
      ],
      "metadata": {
        "colab": {
          "base_uri": "https://localhost:8080/"
        },
        "id": "6LtAMWkfCz40",
        "outputId": "70c087af-264b-4c79-ad7c-890a18344f1d"
      },
      "execution_count": null,
      "outputs": [
        {
          "output_type": "stream",
          "name": "stdout",
          "text": [
            "True\n"
          ]
        }
      ]
    },
    {
      "cell_type": "code",
      "source": [
        "#7. Create a tuple variable `coordinates` that stores the latitude and longitude of a location (e.g., (40.7128,-74.0060)).\n",
        "coordinates=(40.7128,-74.0060)\n",
        "print(coordinates)"
      ],
      "metadata": {
        "colab": {
          "base_uri": "https://localhost:8080/"
        },
        "id": "cvQFlDboDF7i",
        "outputId": "8b56d050-65c1-4379-b338-a1e2109cee82"
      },
      "execution_count": null,
      "outputs": [
        {
          "output_type": "stream",
          "name": "stdout",
          "text": [
            "(40.7128, -74.006)\n"
          ]
        }
      ]
    },
    {
      "cell_type": "code",
      "source": [
        "# 8. Declare a dictionary variable `student` with keys \"name\" and \"age\" and set their values accordingly.\n",
        "student = {\n",
        "    \"name\":\"Paramita Mondal\",\n",
        "    \"age\":20\n",
        "}\n",
        "print(student)"
      ],
      "metadata": {
        "colab": {
          "base_uri": "https://localhost:8080/"
        },
        "id": "Z32DR76aDNyt",
        "outputId": "d22715c6-be6e-4c7e-dabd-3d61c01850ca"
      },
      "execution_count": null,
      "outputs": [
        {
          "output_type": "stream",
          "name": "stdout",
          "text": [
            "{'name': 'Paramita Mondal', 'age': 20}\n"
          ]
        }
      ]
    },
    {
      "cell_type": "code",
      "source": [
        "#9. Write a Python program that calculates the area of a circle with a given radius. Use a variable `radius` to store the radius value.\n",
        "import math\n",
        "radius = 5.0\n",
        "area = math.pi * (radius ** 2)\n",
        "print(\"The area of the circle with radius is:\",area)"
      ],
      "metadata": {
        "colab": {
          "base_uri": "https://localhost:8080/"
        },
        "id": "awXOGRwEDdfw",
        "outputId": "a133e2d4-8814-47d9-9982-451df56fc963"
      },
      "execution_count": null,
      "outputs": [
        {
          "output_type": "stream",
          "name": "stdout",
          "text": [
            "The area of the circle with radius is: 78.53981633974483\n"
          ]
        }
      ]
    },
    {
      "cell_type": "code",
      "source": [
        "#10. Create a list variable `numbers` containing integers from 1 to 10 using list comprehensive\n",
        "numbers=[i for i in range(1,11)]\n",
        "print(numbers)"
      ],
      "metadata": {
        "colab": {
          "base_uri": "https://localhost:8080/"
        },
        "id": "XwGFpk5LDlyN",
        "outputId": "b91a5797-8541-4b20-aebc-a69b07457502"
      },
      "execution_count": null,
      "outputs": [
        {
          "output_type": "stream",
          "name": "stdout",
          "text": [
            "[1, 2, 3, 4, 5, 6, 7, 8, 9, 10]\n"
          ]
        }
      ]
    },
    {
      "cell_type": "code",
      "source": [
        "#11. Define a variable `is_valid` and set it to `False`. Then write code to toggle its value to `True`.\n",
        "is_valid=False\n",
        "is_valid=not is_valid\n",
        "print(is_valid)"
      ],
      "metadata": {
        "colab": {
          "base_uri": "https://localhost:8080/"
        },
        "id": "77pHtUTXD7Kg",
        "outputId": "3377ba2a-ee64-4a1e-caf6-f6d563712ae1"
      },
      "execution_count": null,
      "outputs": [
        {
          "output_type": "stream",
          "name": "stdout",
          "text": [
            "True\n"
          ]
        }
      ]
    },
    {
      "cell_type": "code",
      "source": [
        "#12. Declare a string variable `sentence` with a sentence of your choice.\n",
        "sentence='I love coding'\n",
        "print(sentence)"
      ],
      "metadata": {
        "colab": {
          "base_uri": "https://localhost:8080/"
        },
        "id": "Z5YaYjuvEDvQ",
        "outputId": "be9e3559-39a6-4149-9fe3-881c0905c8b1"
      },
      "execution_count": null,
      "outputs": [
        {
          "output_type": "stream",
          "name": "stdout",
          "text": [
            "I love coding\n"
          ]
        }
      ]
    },
    {
      "cell_type": "code",
      "source": [
        "#13. Write a program that calculates the sum of all numbers from 1 to 100 using a variable `total_sum`.\n",
        "total_sum=0\n",
        "for i in range(1,101):\n",
        "  total_sum+=i\n",
        "print(total_sum)"
      ],
      "metadata": {
        "colab": {
          "base_uri": "https://localhost:8080/"
        },
        "id": "8haYWD9hELQh",
        "outputId": "4490fc77-4723-469a-d0e1-6e450f9c7b70"
      },
      "execution_count": null,
      "outputs": [
        {
          "output_type": "stream",
          "name": "stdout",
          "text": [
            "5050\n"
          ]
        }
      ]
    },
    {
      "cell_type": "code",
      "source": [
        "#14. Create a list variable `grades` containing five test scores as floating-point numbers.\n",
        "grades=[65.7,54.3,98.3,45.6,54.8]\n",
        "grades"
      ],
      "metadata": {
        "colab": {
          "base_uri": "https://localhost:8080/"
        },
        "id": "RIlmg_WUEVhS",
        "outputId": "5b951799-7310-4c54-bffa-a4574b9893d5"
      },
      "execution_count": null,
      "outputs": [
        {
          "output_type": "execute_result",
          "data": {
            "text/plain": [
              "[65.7, 54.3, 98.3, 45.6, 54.8]"
            ]
          },
          "metadata": {},
          "execution_count": 21
        }
      ]
    },
    {
      "cell_type": "code",
      "source": [
        "#15. Define a variable `greeting` and assign it the value \"Hello, World!\".\n",
        "greeting=\"Hello, World\"\n",
        "print(greeting)"
      ],
      "metadata": {
        "colab": {
          "base_uri": "https://localhost:8080/"
        },
        "id": "1CZPJI7CEkcj",
        "outputId": "2dd16bc9-3168-4301-ae5f-09097867825f"
      },
      "execution_count": null,
      "outputs": [
        {
          "output_type": "stream",
          "name": "stdout",
          "text": [
            "Hello, World\n"
          ]
        }
      ]
    },
    {
      "cell_type": "code",
      "source": [
        "#16. Declare a tuple variable `months` containing the names of the twelve months of the year.\n",
        "months = (\"January\", \"February\", \"March\", \"April\", \"May\", \"June\", \"July\", \"August\", \"September\", \"October\", \"November\", \"December\")\n",
        "print(months)"
      ],
      "metadata": {
        "colab": {
          "base_uri": "https://localhost:8080/"
        },
        "id": "iBzgC40EEp_o",
        "outputId": "62790d79-e943-4bf0-f03b-1a4c4f5f4947"
      },
      "execution_count": null,
      "outputs": [
        {
          "output_type": "stream",
          "name": "stdout",
          "text": [
            "('January', 'February', 'March', 'April', 'May', 'June', 'July', 'August', 'September', 'October', 'November', 'December')\n"
          ]
        }
      ]
    },
    {
      "cell_type": "code",
      "source": [
        "#17. Write code that increments an integer variable `counter` by 1 and then prints its value.\n",
        "counter=0\n",
        "counter+=1\n",
        "print(counter)"
      ],
      "metadata": {
        "id": "1ZBWGTWxEvkb",
        "colab": {
          "base_uri": "https://localhost:8080/"
        },
        "outputId": "521bfe25-7232-4001-ddf4-f1985575a478"
      },
      "execution_count": null,
      "outputs": [
        {
          "output_type": "stream",
          "name": "stdout",
          "text": [
            "1\n"
          ]
        }
      ]
    },
    {
      "cell_type": "code",
      "source": [
        "#18. Create a dictionary variable `book` with keys \"title\", \"author\", and \"year\" to store information about a book.\n",
        "book={\n",
        "    \"title\":\"Pride and Prejudice\",\n",
        "    \"author\":\"Jane Austen\",\n",
        "    \"year\":1813\n",
        "}\n",
        "print(book)"
      ],
      "metadata": {
        "id": "KCbbWGAtE0w6",
        "colab": {
          "base_uri": "https://localhost:8080/"
        },
        "outputId": "4df66c3f-8c1a-4308-fa18-fb6cbae1d535"
      },
      "execution_count": null,
      "outputs": [
        {
          "output_type": "stream",
          "name": "stdout",
          "text": [
            "{'title': 'Pride and Prejudice', 'author': 'Jane Austen', 'year': 1813}\n"
          ]
        }
      ]
    },
    {
      "cell_type": "code",
      "source": [
        "#19. Define a variable `pi` and assign it the value of the mathematical constant π (pi).\n",
        "import math\n",
        "pi=math.pi\n",
        "print(pi)"
      ],
      "metadata": {
        "id": "UM5TeLAdE7H-",
        "colab": {
          "base_uri": "https://localhost:8080/"
        },
        "outputId": "f795b072-3ece-4929-8bf6-bf14d4bbd58b"
      },
      "execution_count": null,
      "outputs": [
        {
          "output_type": "stream",
          "name": "stdout",
          "text": [
            "3.141592653589793\n"
          ]
        }
      ]
    },
    {
      "cell_type": "code",
      "source": [
        "#20. Declare a list variable `colors` containing the names of five different colors.\n",
        "colors=['green','yellow','pink','blue','white']\n",
        "print(colors)"
      ],
      "metadata": {
        "id": "3Cr7hUquE_jf",
        "colab": {
          "base_uri": "https://localhost:8080/"
        },
        "outputId": "3102969d-abc3-4dcc-ee5b-9aa47ede4ae5"
      },
      "execution_count": null,
      "outputs": [
        {
          "output_type": "stream",
          "name": "stdout",
          "text": [
            "['green', 'yellow', 'pink', 'blue', 'white']\n"
          ]
        }
      ]
    },
    {
      "cell_type": "code",
      "source": [
        "#21.Write a program that calculates the area of a rectangle using variables `length` and `width`.\n",
        "length=input(\"Enter the length:\")\n",
        "width=input(\"Enter the width:\")\n",
        "area=float(length)*float(width)\n",
        "print(\"Area of a rectangle is \",area)"
      ],
      "metadata": {
        "id": "BWXhN-YKFMOm",
        "colab": {
          "base_uri": "https://localhost:8080/"
        },
        "outputId": "1405c9ab-63f2-4cac-fd36-e11392e9f531"
      },
      "execution_count": null,
      "outputs": [
        {
          "output_type": "stream",
          "name": "stdout",
          "text": [
            "Enter the length:87\n",
            "Enter the width:33\n",
            "Area of a rectangle is  2871.0\n"
          ]
        }
      ]
    },
    {
      "cell_type": "code",
      "source": [
        "#22. Create a dictionary variable `person` with keys \"first_name\" and \"last_name\" to store a person's name.\n",
        "person={\n",
        "    \"first_name\":\"Paramita\",\n",
        "    \"last_name\":\"Mondal\"\n",
        "}\n",
        "print(person)"
      ],
      "metadata": {
        "id": "lO0Ek1PeFXr6",
        "colab": {
          "base_uri": "https://localhost:8080/"
        },
        "outputId": "4fbb35e3-dcfb-4bb8-9940-01a3bed91acf"
      },
      "execution_count": null,
      "outputs": [
        {
          "output_type": "stream",
          "name": "stdout",
          "text": [
            "{'first_name': 'Paramita', 'last_name': 'Mondal'}\n"
          ]
        }
      ]
    },
    {
      "cell_type": "code",
      "source": [
        "#23. Define a variable `temperature` and assign it a value in Celsius. Convert it to Fahrenheit and store the result in another variable.\n",
        "temperature=37\n",
        "fahrenheit=(temperature*9/5)+32\n",
        "print(fahrenheit)"
      ],
      "metadata": {
        "id": "F750gNbzFjJ5",
        "colab": {
          "base_uri": "https://localhost:8080/"
        },
        "outputId": "468402da-0a28-496e-f503-e8c5d47d9c69"
      },
      "execution_count": null,
      "outputs": [
        {
          "output_type": "stream",
          "name": "stdout",
          "text": [
            "98.6\n"
          ]
        }
      ]
    },
    {
      "cell_type": "code",
      "source": [
        "#24. Write code that appends a new item to a list named 'shopping_list\"\n",
        "shopping_list=['apple','mango','banana']\n",
        "shopping_list.append('orange')\n",
        "print(shopping_list)"
      ],
      "metadata": {
        "id": "YDLVQBg1FqIc",
        "colab": {
          "base_uri": "https://localhost:8080/"
        },
        "outputId": "3d833798-46bf-4008-f63a-ee2490fa0599"
      },
      "execution_count": null,
      "outputs": [
        {
          "output_type": "stream",
          "name": "stdout",
          "text": [
            "['apple', 'mango', 'banana', 'orange']\n"
          ]
        }
      ]
    },
    {
      "cell_type": "code",
      "source": [
        "#25. Declare a variable `is_raining` and set it to `True`. Then write code to change its value to `False`\n",
        "is_raining=True\n",
        "is_raining=False\n",
        "print(is_raining)"
      ],
      "metadata": {
        "id": "DeJENboDFwIl",
        "colab": {
          "base_uri": "https://localhost:8080/"
        },
        "outputId": "593cdf65-eaf1-4a32-e5d4-c39aab3f953c"
      },
      "execution_count": null,
      "outputs": [
        {
          "output_type": "stream",
          "name": "stdout",
          "text": [
            "False\n"
          ]
        }
      ]
    },
    {
      "cell_type": "code",
      "source": [],
      "metadata": {
        "id": "0wBRuopXjbz5"
      },
      "execution_count": null,
      "outputs": []
    }
  ]
}