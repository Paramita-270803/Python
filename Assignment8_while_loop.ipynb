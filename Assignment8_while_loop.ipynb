{
  "nbformat": 4,
  "nbformat_minor": 0,
  "metadata": {
    "colab": {
      "provenance": []
    },
    "kernelspec": {
      "name": "python3",
      "display_name": "Python 3"
    },
    "language_info": {
      "name": "python"
    }
  },
  "cells": [
    {
      "cell_type": "code",
      "execution_count": null,
      "metadata": {
        "colab": {
          "base_uri": "https://localhost:8080/"
        },
        "id": "FZFGZJF7_s_A",
        "outputId": "689126fb-0988-4ed0-e323-f11ee954d610"
      },
      "outputs": [
        {
          "output_type": "stream",
          "name": "stdout",
          "text": [
            "1\n",
            "2\n",
            "3\n",
            "4\n",
            "5\n",
            "6\n",
            "7\n",
            "8\n",
            "9\n",
            "10\n"
          ]
        }
      ],
      "source": [
        "#1. Write a program that prints the numbers from 1 to 10 using a while loop.\n",
        "i = 1\n",
        "while i <= 10:\n",
        "    print(i)\n",
        "    i += 1\n"
      ]
    },
    {
      "cell_type": "code",
      "source": [
        "#2. Write a program that prints the even numbers from 2 to 20 using a while loop.\n",
        "i = 2\n",
        "while i <= 20:\n",
        "    print(i)\n",
        "    i += 2\n"
      ],
      "metadata": {
        "colab": {
          "base_uri": "https://localhost:8080/"
        },
        "id": "iVvVpnSY_21X",
        "outputId": "a5e6732b-65f8-4e5a-8282-257e02015941"
      },
      "execution_count": 3,
      "outputs": [
        {
          "output_type": "stream",
          "name": "stdout",
          "text": [
            "2\n",
            "4\n",
            "6\n",
            "8\n",
            "10\n",
            "12\n",
            "14\n",
            "16\n",
            "18\n",
            "20\n"
          ]
        }
      ]
    },
    {
      "cell_type": "code",
      "source": [
        "#3. Write a program that prints the odd numbers from 1 to 19 using a while loop.\n",
        "i = 1\n",
        "while i < 20:\n",
        "    print(i)\n",
        "    i += 2\n"
      ],
      "metadata": {
        "id": "WhCo352Y_6Mg",
        "colab": {
          "base_uri": "https://localhost:8080/"
        },
        "outputId": "f9892a27-a212-4015-d5d8-59727c84b041"
      },
      "execution_count": 1,
      "outputs": [
        {
          "output_type": "stream",
          "name": "stdout",
          "text": [
            "1\n",
            "3\n",
            "5\n",
            "7\n",
            "9\n",
            "11\n",
            "13\n",
            "15\n",
            "17\n",
            "19\n"
          ]
        }
      ]
    },
    {
      "cell_type": "code",
      "source": [
        "#4. Write a program that prints the first 10 numbers of the Fibonacci sequence using a while loop.\n",
        "a = 0\n",
        "b = 1\n",
        "count = 0\n",
        "while count < 10:\n",
        "    print(a)\n",
        "    c = a + b\n",
        "    a = b\n",
        "    b = c\n",
        "    count += 1\n"
      ],
      "metadata": {
        "id": "lMhce12B_-Cf",
        "colab": {
          "base_uri": "https://localhost:8080/"
        },
        "outputId": "c003900f-ce29-427e-b9fa-98bffd5882d0"
      },
      "execution_count": 4,
      "outputs": [
        {
          "output_type": "stream",
          "name": "stdout",
          "text": [
            "0\n",
            "1\n",
            "1\n",
            "2\n",
            "3\n",
            "5\n",
            "8\n",
            "13\n",
            "21\n",
            "34\n"
          ]
        }
      ]
    },
    {
      "cell_type": "code",
      "source": [
        "#5. Write a program that prints the multiplication table of a given number using a while loop.\n",
        "n = int(input(\"Enter a number: \"))\n",
        "i = 1\n",
        "while i <= 10:\n",
        "    print(n, \"x\", i, \"=\", n * i)\n",
        "    i += 1"
      ],
      "metadata": {
        "id": "dSb9vV6AAOBv",
        "colab": {
          "base_uri": "https://localhost:8080/"
        },
        "outputId": "590c04f3-11ae-42ce-e069-8166920f7147"
      },
      "execution_count": 5,
      "outputs": [
        {
          "output_type": "stream",
          "name": "stdout",
          "text": [
            "Enter a number: 10\n",
            "10 x 1 = 10\n",
            "10 x 2 = 20\n",
            "10 x 3 = 30\n",
            "10 x 4 = 40\n",
            "10 x 5 = 50\n",
            "10 x 6 = 60\n",
            "10 x 7 = 70\n",
            "10 x 8 = 80\n",
            "10 x 9 = 90\n",
            "10 x 10 = 100\n"
          ]
        }
      ]
    },
    {
      "cell_type": "code",
      "source": [
        "#6. Write a program that prints the sum of the digits of a given number using a while loop.\n",
        "n = int(input(\"Enter a number: \"))\n",
        "sum = 0\n",
        "while n > 0:\n",
        "    digit = n % 10\n",
        "    sum += digit\n",
        "    n = n // 10\n",
        "print(\"Sum of digits:\", sum)\n"
      ],
      "metadata": {
        "id": "sFsMGN_6Aaje",
        "colab": {
          "base_uri": "https://localhost:8080/"
        },
        "outputId": "a296634c-2653-4df6-e113-d8c50f99f0e3"
      },
      "execution_count": 6,
      "outputs": [
        {
          "output_type": "stream",
          "name": "stdout",
          "text": [
            "Enter a number: 543\n",
            "Sum of digits: 12\n"
          ]
        }
      ]
    },
    {
      "cell_type": "code",
      "source": [
        "#7. Write a program that prints the reverse of a given number using a while loop.\n",
        "n = int(input(\"Enter a number: \"))\n",
        "reverse = 0\n",
        "while n > 0:\n",
        "    digit = n % 10\n",
        "    reverse = reverse * 10 + digit\n",
        "    n = n // 10\n",
        "print(\"Reversed number:\", reverse)\n"
      ],
      "metadata": {
        "id": "JuC8TaAjAfBx",
        "colab": {
          "base_uri": "https://localhost:8080/"
        },
        "outputId": "500d54a7-ac73-49db-a1e4-233e3b06d39a"
      },
      "execution_count": 7,
      "outputs": [
        {
          "output_type": "stream",
          "name": "stdout",
          "text": [
            "Enter a number: 7643\n",
            "Reversed number: 3467\n"
          ]
        }
      ]
    },
    {
      "cell_type": "code",
      "source": [
        "#8. Write a program that prints the factorial of a given number using a while loop.\n",
        "n = int(input(\"Enter a number: \"))\n",
        "fact = 1\n",
        "i = 1\n",
        "while i <= n:\n",
        "    fact *= i\n",
        "    i += 1\n",
        "print(\"Factorial:\", fact)\n"
      ],
      "metadata": {
        "id": "syzGmk-6AkEb",
        "colab": {
          "base_uri": "https://localhost:8080/"
        },
        "outputId": "64f54dd1-71bd-42d5-af77-c22c3c6e73c3"
      },
      "execution_count": 8,
      "outputs": [
        {
          "output_type": "stream",
          "name": "stdout",
          "text": [
            "Enter a number: 4\n",
            "Factorial: 24\n"
          ]
        }
      ]
    },
    {
      "cell_type": "code",
      "source": [
        "#9. Write a program that prints the prime numbers between 1 and 100 using a while loop.\n",
        "num = 2\n",
        "while num <= 100:\n",
        "    is_prime = True\n",
        "    i = 2\n",
        "    while i * i <= num:\n",
        "        if num % i == 0:\n",
        "            is_prime = False\n",
        "            break\n",
        "        i += 1\n",
        "    if is_prime:\n",
        "        print(num, end=\" \")\n",
        "    num += 1\n"
      ],
      "metadata": {
        "id": "N18zj4yBAoW6",
        "colab": {
          "base_uri": "https://localhost:8080/"
        },
        "outputId": "458e3da3-2486-425c-f32b-9defa47f23e5"
      },
      "execution_count": 9,
      "outputs": [
        {
          "output_type": "stream",
          "name": "stdout",
          "text": [
            "2 3 5 7 11 13 17 19 23 29 31 37 41 43 47 53 59 61 67 71 73 79 83 89 97 "
          ]
        }
      ]
    },
    {
      "cell_type": "code",
      "source": [
        "#10. Write a program that prints the sum of the first n natural numbers using a while loop.\n",
        "n = int(input(\"Enter a number: \"))\n",
        "sum = 0\n",
        "i = 1\n",
        "while i <= n:\n",
        "    sum += i\n",
        "    i += 1\n",
        "print(\"Sum of first\", n, \"natural numbers is:\", sum)\n"
      ],
      "metadata": {
        "id": "HIWxxSOIAs9d",
        "colab": {
          "base_uri": "https://localhost:8080/"
        },
        "outputId": "57c33bf2-5748-4c0e-affa-723e21c4fc7f"
      },
      "execution_count": 10,
      "outputs": [
        {
          "output_type": "stream",
          "name": "stdout",
          "text": [
            "Enter a number: 6\n",
            "Sum of first 6 natural numbers is: 21\n"
          ]
        }
      ]
    },
    {
      "cell_type": "code",
      "source": [],
      "metadata": {
        "id": "uHG-RKIxGMzj"
      },
      "execution_count": null,
      "outputs": []
    }
  ]
}