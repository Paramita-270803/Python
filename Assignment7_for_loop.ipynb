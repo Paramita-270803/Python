{
  "nbformat": 4,
  "nbformat_minor": 0,
  "metadata": {
    "colab": {
      "provenance": []
    },
    "kernelspec": {
      "name": "python3",
      "display_name": "Python 3"
    },
    "language_info": {
      "name": "python"
    }
  },
  "cells": [
    {
      "cell_type": "markdown",
      "source": [
        "Paramita Mondal"
      ],
      "metadata": {
        "id": "Dj2cF3p-pE0T"
      }
    },
    {
      "cell_type": "code",
      "execution_count": 1,
      "metadata": {
        "colab": {
          "base_uri": "https://localhost:8080/"
        },
        "id": "SbAr3gl4pDN7",
        "outputId": "40237ded-d89a-4a1b-bfb6-ae2a91c20198"
      },
      "outputs": [
        {
          "output_type": "stream",
          "name": "stdout",
          "text": [
            "1\n",
            "2\n",
            "3\n",
            "4\n",
            "5\n",
            "6\n",
            "7\n",
            "8\n",
            "9\n",
            "10\n"
          ]
        }
      ],
      "source": [
        "#1. Write a Python program that prints the numbers from 1 to 10 using a for loop.\n",
        "for i in range(1, 11):\n",
        "    print(i)\n"
      ]
    },
    {
      "cell_type": "code",
      "source": [
        "#2. Write a Python program that prints the sum of the first n natural numbers, where n is given by the user.\n",
        "n = int(input(\"Enter a number: \"))\n",
        "sum = 0\n",
        "for i in range(1, n + 1):\n",
        "    sum += i\n",
        "print(\"Sum:\", sum)\n"
      ],
      "metadata": {
        "colab": {
          "base_uri": "https://localhost:8080/"
        },
        "id": "5TI3Xi75p8YX",
        "outputId": "d81c8a3b-5c14-44de-ef86-27b14a52a468"
      },
      "execution_count": 2,
      "outputs": [
        {
          "output_type": "stream",
          "name": "stdout",
          "text": [
            "Enter a number: 6\n",
            "Sum: 21\n"
          ]
        }
      ]
    },
    {
      "cell_type": "code",
      "source": [
        "#3. Write a Python program that prints the factorial of a given number n, where n is given by the user.\n",
        "n = int(input(\"Enter a number: \"))\n",
        "fact = 1\n",
        "for i in range(1, n + 1):\n",
        "    fact *= i\n",
        "print(\"Factorial:\", fact)\n"
      ],
      "metadata": {
        "colab": {
          "base_uri": "https://localhost:8080/"
        },
        "id": "PD8ryE5NqEgK",
        "outputId": "c6bcf175-7963-421e-c5ea-170f5ad3cc25"
      },
      "execution_count": 3,
      "outputs": [
        {
          "output_type": "stream",
          "name": "stdout",
          "text": [
            "Enter a number: 7\n",
            "Factorial: 5040\n"
          ]
        }
      ]
    },
    {
      "cell_type": "code",
      "source": [
        "#4. Write a Python program that prints all the even numbers from 2 to 20 using a for loop.\n",
        "for i in range(2, 21, 2):\n",
        "    print(i)\n"
      ],
      "metadata": {
        "colab": {
          "base_uri": "https://localhost:8080/"
        },
        "id": "8ePzSgn2qKP6",
        "outputId": "5a4dc05b-49b5-47b5-9b6b-3fd8ed8daa27"
      },
      "execution_count": 4,
      "outputs": [
        {
          "output_type": "stream",
          "name": "stdout",
          "text": [
            "2\n",
            "4\n",
            "6\n",
            "8\n",
            "10\n",
            "12\n",
            "14\n",
            "16\n",
            "18\n",
            "20\n"
          ]
        }
      ]
    },
    {
      "cell_type": "code",
      "source": [
        "#5. Write a Python program that prints the multiplication table of a given number n, where n is given by the user.\n",
        "n = int(input(\"Enter a number: \"))\n",
        "for i in range(1, 11):\n",
        "    print(n, \"x\", i, \"=\", n * i)\n"
      ],
      "metadata": {
        "colab": {
          "base_uri": "https://localhost:8080/"
        },
        "id": "Isx5o3HBqPtn",
        "outputId": "7f658db6-3060-4e44-b570-9419f2355d73"
      },
      "execution_count": 5,
      "outputs": [
        {
          "output_type": "stream",
          "name": "stdout",
          "text": [
            "Enter a number: 7\n",
            "7 x 1 = 7\n",
            "7 x 2 = 14\n",
            "7 x 3 = 21\n",
            "7 x 4 = 28\n",
            "7 x 5 = 35\n",
            "7 x 6 = 42\n",
            "7 x 7 = 49\n",
            "7 x 8 = 56\n",
            "7 x 9 = 63\n",
            "7 x 10 = 70\n"
          ]
        }
      ]
    },
    {
      "cell_type": "code",
      "source": [
        "#6. Write a Python program that prints the Fibonacci sequence up to a given number n, where n is given by the user.\n",
        "n = int(input(\"Enter a number: \"))\n",
        "a = 0\n",
        "b = 1\n",
        "print(\"Fibonacci sequence:\")\n",
        "while a <= n:\n",
        "    print(a)\n",
        "    c = a + b\n",
        "    a = b\n",
        "    b = c\n"
      ],
      "metadata": {
        "colab": {
          "base_uri": "https://localhost:8080/"
        },
        "id": "Dgt7bpmWqUrp",
        "outputId": "389b4ab3-9f1f-4da5-f37f-cf60c7afb85a"
      },
      "execution_count": 6,
      "outputs": [
        {
          "output_type": "stream",
          "name": "stdout",
          "text": [
            "Enter a number: 8\n",
            "Fibonacci sequence:\n",
            "0\n",
            "1\n",
            "1\n",
            "2\n",
            "3\n",
            "5\n",
            "8\n"
          ]
        }
      ]
    },
    {
      "cell_type": "code",
      "source": [
        "#7 Write a Python program that prints the number of vowels in a given string s, where s is given by the user\n",
        "s = input(\"Enter a string: \")\n",
        "count = 0\n",
        "for char in s:\n",
        "    if char.lower() in \"aeiou\":\n",
        "        count += 1\n",
        "print(\"Number of vowels:\", count)\n"
      ],
      "metadata": {
        "colab": {
          "base_uri": "https://localhost:8080/"
        },
        "id": "BmtVN3xWqZkX",
        "outputId": "e6c08105-c842-4ec0-fac5-4cfe6004220c"
      },
      "execution_count": 7,
      "outputs": [
        {
          "output_type": "stream",
          "name": "stdout",
          "text": [
            "Enter a string: paro\n",
            "Number of vowels: 2\n"
          ]
        }
      ]
    },
    {
      "cell_type": "code",
      "source": [
        "#8. Write a Python program that prints the reverse of a given string s, where s is given by the user.\n",
        "s = input(\"Enter a string: \")\n",
        "reversed_s = \"\"\n",
        "for char in s:\n",
        "    reversed_s = char + reversed_s\n",
        "print(\"Reversed string:\", reversed_s)\n"
      ],
      "metadata": {
        "colab": {
          "base_uri": "https://localhost:8080/"
        },
        "id": "cfpVa8c0sHIS",
        "outputId": "f224205d-7e10-4f1d-d7a9-440037461f0e"
      },
      "execution_count": 8,
      "outputs": [
        {
          "output_type": "stream",
          "name": "stdout",
          "text": [
            "Enter a string: paromita\n",
            "Reversed string: atimorap\n"
          ]
        }
      ]
    },
    {
      "cell_type": "code",
      "source": [
        "#9. • Write a Python program that prints whether a given string s, where s is given by the user, is a palindrome or not\n",
        "s = input(\"Enter a string: \")\n",
        "reversed_s = \"\"\n",
        "for char in s:\n",
        "    reversed_s = char + reversed_s\n",
        "if s == reversed_s:\n",
        "    print(\"Palindrome\")\n",
        "else:\n",
        "    print(\"Not a palindrome\")\n"
      ],
      "metadata": {
        "colab": {
          "base_uri": "https://localhost:8080/"
        },
        "id": "lBhdBIEFsdiP",
        "outputId": "20e02f3a-c6c8-4112-a65b-add4bcc232e3"
      },
      "execution_count": 9,
      "outputs": [
        {
          "output_type": "stream",
          "name": "stdout",
          "text": [
            "Enter a string: 8\n",
            "Palindrome\n"
          ]
        }
      ]
    },
    {
      "cell_type": "code",
      "source": [
        "#10. Write a Python program that prints the number of words in a given sentence s, where s is given by the user.\n",
        "s = input(\"Enter a sentence: \")\n",
        "words = s.split()\n",
        "count = 0\n",
        "for word in words:\n",
        "    count += 1\n",
        "print(\"Number of words:\", count)\n"
      ],
      "metadata": {
        "colab": {
          "base_uri": "https://localhost:8080/"
        },
        "id": "mWcgbtcpskef",
        "outputId": "1ac3a931-ec94-40be-d412-ad8e5611e1f9"
      },
      "execution_count": 11,
      "outputs": [
        {
          "output_type": "stream",
          "name": "stdout",
          "text": [
            "Enter a sentence: paramita mondal\n",
            "Number of words: 2\n"
          ]
        }
      ]
    },
    {
      "cell_type": "code",
      "source": [
        "#11. Write a Python program that prints the largest and smallest elements in a given list l, where l is given by the user.\n",
        "l = input(\"Enter list elements separated by spaces: \").split()\n",
        "l = [int(x) for x in l]\n",
        "max_val = l[0]\n",
        "min_val = l[0]\n",
        "for num in l:\n",
        "    if num > max_val:\n",
        "        max_val = num\n",
        "    if num < min_val:\n",
        "        min_val = num\n",
        "print(\"Largest:\", max_val)\n",
        "print(\"Smallest:\", min_val)\n"
      ],
      "metadata": {
        "colab": {
          "base_uri": "https://localhost:8080/"
        },
        "id": "VXQkp6mVsqSI",
        "outputId": "6a941679-b458-4d75-d420-4576bbed0050"
      },
      "execution_count": 13,
      "outputs": [
        {
          "output_type": "stream",
          "name": "stdout",
          "text": [
            "Enter list elements separated by spaces: 4 5 3 6 \n",
            "Largest: 6\n",
            "Smallest: 3\n"
          ]
        }
      ]
    },
    {
      "cell_type": "code",
      "source": [
        "#12. Write a Python program that prints the number of occurrences of a given element x in a given list l, where x and l are given by the user.\n",
        "l = input(\"Enter list elements separated by spaces: \").split()\n",
        "l = [int(x) for x in l]\n",
        "x = int(input(\"Enter the element to count: \"))\n",
        "count = 0\n",
        "for num in l:\n",
        "    if num == x:\n",
        "        count += 1\n",
        "print(\"Occurrences of\", x, \":\", count)\n"
      ],
      "metadata": {
        "colab": {
          "base_uri": "https://localhost:8080/"
        },
        "id": "EsogzKM1sxA3",
        "outputId": "4ae94abc-cc2c-4003-b6de-e5173afa4f53"
      },
      "execution_count": 15,
      "outputs": [
        {
          "output_type": "stream",
          "name": "stdout",
          "text": [
            "Enter list elements separated by spaces: 1 3 5 1 4 8 5 8\n",
            "Enter the element to count: 1\n",
            "Occurrences of 1 : 2\n"
          ]
        }
      ]
    },
    {
      "cell_type": "code",
      "source": [
        "#13. Write a Python program that prints the sorted version of a given list l, where l is given by the user.\n",
        "l = input(\"Enter list elements separated by spaces: \").split()\n",
        "l = [int(x) for x in l]\n",
        "for i in range(len(l)):\n",
        "    for j in range(i + 1, len(l)):\n",
        "        if l[i] > l[j]:\n",
        "            l[i], l[j] = l[j], l[i]\n",
        "print(\"Sorted list:\", l)\n"
      ],
      "metadata": {
        "colab": {
          "base_uri": "https://localhost:8080/"
        },
        "id": "8KHkTx47s2Gq",
        "outputId": "95d67906-2228-4765-8c05-ffb8346ffef8"
      },
      "execution_count": 17,
      "outputs": [
        {
          "output_type": "stream",
          "name": "stdout",
          "text": [
            "Enter list elements separated by spaces: 7 5 3 2 9 1 \n",
            "Sorted list: [1, 2, 3, 5, 7, 9]\n"
          ]
        }
      ]
    },
    {
      "cell_type": "code",
      "source": [
        "#14. Write a Python program that prints the common elements in two given lists l1 and l2, where l1 and l2 are given by the user.\n",
        "l1 = input(\"Enter first list elements: \").split()\n",
        "l2 = input(\"Enter second list elements: \").split()\n",
        "l1 = [int(x) for x in l1]\n",
        "l2 = [int(x) for x in l2]\n",
        "common = []\n",
        "for item in l1:\n",
        "    if item in l2 and item not in common:\n",
        "        common.append(item)\n",
        "print(\"Common elements:\", common)\n"
      ],
      "metadata": {
        "colab": {
          "base_uri": "https://localhost:8080/"
        },
        "id": "N28gdtrMs7gy",
        "outputId": "dd61bf99-2c33-4fe3-8e01-5f3da99b4c1f"
      },
      "execution_count": 18,
      "outputs": [
        {
          "output_type": "stream",
          "name": "stdout",
          "text": [
            "Enter first list elements: 9 2 4 5 7 1\n",
            "Enter second list elements: 9 3 5 7 2 4\n",
            "Common elements: [9, 2, 4, 5, 7]\n"
          ]
        }
      ]
    },
    {
      "cell_type": "code",
      "source": [
        "#15. Write a Python program that prints the number of prime numbers in a given range r, where r is given by the user.\n",
        "r = int(input(\"Enter the upper range limit: \"))\n",
        "count = 0\n",
        "for num in range(2, r + 1):\n",
        "    is_prime = True\n",
        "    for i in range(2, num):\n",
        "        if num % i == 0:\n",
        "            is_prime = False\n",
        "            break\n",
        "    if is_prime:\n",
        "        count += 1\n",
        "print(\"Number of prime numbers:\", count)\n"
      ],
      "metadata": {
        "colab": {
          "base_uri": "https://localhost:8080/"
        },
        "id": "lcfWGxNPtBPu",
        "outputId": "323b6633-46b7-4b92-b56b-1f470924c1f2"
      },
      "execution_count": 19,
      "outputs": [
        {
          "output_type": "stream",
          "name": "stdout",
          "text": [
            "Enter the upper range limit: 22\n",
            "Number of prime numbers: 8\n"
          ]
        }
      ]
    },
    {
      "cell_type": "code",
      "source": [],
      "metadata": {
        "id": "Lg_PV4XEvUXu"
      },
      "execution_count": null,
      "outputs": []
    }
  ]
}