{
  "nbformat": 4,
  "nbformat_minor": 0,
  "metadata": {
    "colab": {
      "provenance": []
    },
    "kernelspec": {
      "name": "python3",
      "display_name": "Python 3"
    },
    "language_info": {
      "name": "python"
    }
  },
  "cells": [
    {
      "cell_type": "markdown",
      "source": [
        "Paramita Mondal"
      ],
      "metadata": {
        "id": "THZJokiNWSvh"
      }
    },
    {
      "cell_type": "code",
      "execution_count": 2,
      "metadata": {
        "colab": {
          "base_uri": "https://localhost:8080/"
        },
        "id": "SRsq5ALxWPyM",
        "outputId": "b58b0626-6524-4511-c9ef-138193cf1195"
      },
      "outputs": [
        {
          "output_type": "stream",
          "name": "stdout",
          "text": [
            "Sum of list items: 150\n"
          ]
        }
      ],
      "source": [
        "#1. Write a Python program to sum all the items in a list.\n",
        "l = [10, 20, 30, 40, 50]\n",
        "total = 0\n",
        "for item in l:\n",
        "    total += item\n",
        "print(\"Sum of list items:\", total)\n"
      ]
    },
    {
      "cell_type": "code",
      "source": [
        "#2. Write a Python program to find the largest number in a list.\n",
        "l = [5, 9, 3, 22, 17]\n",
        "largest = l[0]\n",
        "for item in l:\n",
        "    if item > largest:\n",
        "        largest = item\n",
        "print(\"Largest number in the list:\", largest)\n"
      ],
      "metadata": {
        "colab": {
          "base_uri": "https://localhost:8080/"
        },
        "id": "48n2fHyfXBf7",
        "outputId": "6749be58-f5ab-4d9b-cd04-4434ba9290a6"
      },
      "execution_count": 3,
      "outputs": [
        {
          "output_type": "stream",
          "name": "stdout",
          "text": [
            "Largest number in the list: 22\n"
          ]
        }
      ]
    },
    {
      "cell_type": "code",
      "source": [
        "#3. Write a Python program to find the smallest number in a list.\n",
        "l = [8, 2, 10, 4, 7]\n",
        "smallest = l[0]\n",
        "for item in l:\n",
        "    if item < smallest:\n",
        "        smallest = item\n",
        "print(\"Smallest number in the list:\", smallest)"
      ],
      "metadata": {
        "colab": {
          "base_uri": "https://localhost:8080/"
        },
        "id": "wRHlBufcXFYl",
        "outputId": "6d1ddf44-03f0-4f8e-b940-f17c96cc86bb"
      },
      "execution_count": 4,
      "outputs": [
        {
          "output_type": "stream",
          "name": "stdout",
          "text": [
            "Smallest number in the list: 2\n"
          ]
        }
      ]
    },
    {
      "cell_type": "code",
      "source": [
        "#4. Write a Python program to count the number of elements in a list.\n",
        "l = [1, 2, 3, 4, 5, 6]\n",
        "count = 0\n",
        "for item in l:\n",
        "    count += 1\n",
        "print(\"Number of elements in the list:\", count)\n"
      ],
      "metadata": {
        "colab": {
          "base_uri": "https://localhost:8080/"
        },
        "id": "xSJrNlg4XJma",
        "outputId": "206a6e5c-1024-4ae1-ee49-07720c6f836b"
      },
      "execution_count": 5,
      "outputs": [
        {
          "output_type": "stream",
          "name": "stdout",
          "text": [
            "Number of elements in the list: 6\n"
          ]
        }
      ]
    },
    {
      "cell_type": "code",
      "source": [
        "#5. Write a Python program to remove duplicates from a list.\n",
        "l = [1, 2, 2, 3, 4, 4, 5]\n",
        "unique = []\n",
        "for item in l:\n",
        "    if item not in unique:\n",
        "        unique.append(item)\n",
        "print(\"List without duplicates:\", unique)\n"
      ],
      "metadata": {
        "colab": {
          "base_uri": "https://localhost:8080/"
        },
        "id": "-Yompmi1XNMK",
        "outputId": "680ee719-e7f8-4002-cff1-b50fc7be23bd"
      },
      "execution_count": 6,
      "outputs": [
        {
          "output_type": "stream",
          "name": "stdout",
          "text": [
            "List without duplicates: [1, 2, 3, 4, 5]\n"
          ]
        }
      ]
    },
    {
      "cell_type": "code",
      "source": [
        "#6. Write a Python program to check if a list is empty or not.\n",
        "l = []\n",
        "if len(l) == 0:\n",
        "    print(\"The list is empty.\")\n",
        "else:\n",
        "    print(\"The list is not empty.\")"
      ],
      "metadata": {
        "colab": {
          "base_uri": "https://localhost:8080/"
        },
        "id": "8r_Hyym5XRA8",
        "outputId": "6b91241d-478b-4a28-8068-4b3c734a801e"
      },
      "execution_count": 7,
      "outputs": [
        {
          "output_type": "stream",
          "name": "stdout",
          "text": [
            "The list is empty.\n"
          ]
        }
      ]
    },
    {
      "cell_type": "code",
      "source": [
        "#7. Write a Python program to find the length of a tuple.\n",
        "t = (10, 20, 30, 40)\n",
        "length = 0\n",
        "for item in t:\n",
        "    length += 1\n",
        "print(\"Length of the tuple:\", length)\n"
      ],
      "metadata": {
        "colab": {
          "base_uri": "https://localhost:8080/"
        },
        "id": "biV4c8qzXU_E",
        "outputId": "0b55671e-079f-4197-b6ce-3ce5d44cafa8"
      },
      "execution_count": 8,
      "outputs": [
        {
          "output_type": "stream",
          "name": "stdout",
          "text": [
            "Length of the tuple: 4\n"
          ]
        }
      ]
    },
    {
      "cell_type": "code",
      "source": [
        "#8. Write a Python program to find the largest number in a tuple.\n",
        "t = (3, 5, 7, 2, 8)\n",
        "largest = t[0]\n",
        "for item in t:\n",
        "    if item > largest:\n",
        "        largest = item\n",
        "print(\"Largest number in the tuple:\", largest)\n"
      ],
      "metadata": {
        "colab": {
          "base_uri": "https://localhost:8080/"
        },
        "id": "4C8ocjKqXY8a",
        "outputId": "d47f2553-5064-4748-8e4e-38da49378bde"
      },
      "execution_count": 9,
      "outputs": [
        {
          "output_type": "stream",
          "name": "stdout",
          "text": [
            "Largest number in the tuple: 8\n"
          ]
        }
      ]
    },
    {
      "cell_type": "code",
      "source": [
        "#9. Write a Python program to find the smallest number in a tuple.\n",
        "t = (9, 4, 6, 1, 3)\n",
        "smallest = t[0]\n",
        "for item in t:\n",
        "    if item < smallest:\n",
        "        smallest = item\n",
        "print(\"Smallest number in the tuple:\", smallest)\n"
      ],
      "metadata": {
        "colab": {
          "base_uri": "https://localhost:8080/"
        },
        "id": "e7wYB5OyXbTx",
        "outputId": "8865e820-36a8-4056-bcce-4b860e3621a6"
      },
      "execution_count": 10,
      "outputs": [
        {
          "output_type": "stream",
          "name": "stdout",
          "text": [
            "Smallest number in the tuple: 1\n"
          ]
        }
      ]
    },
    {
      "cell_type": "code",
      "source": [
        "#10. Write a Python program to count the number of elements in a tuple.\n",
        "t = (1, 2, 3, 4, 5)\n",
        "count = 0\n",
        "for item in t:\n",
        "    count += 1\n",
        "print(\"Number of elements in the tuple:\", count)"
      ],
      "metadata": {
        "colab": {
          "base_uri": "https://localhost:8080/"
        },
        "id": "IFhinzO4XepX",
        "outputId": "4023dbf9-451a-4805-8a08-40596be3c491"
      },
      "execution_count": 11,
      "outputs": [
        {
          "output_type": "stream",
          "name": "stdout",
          "text": [
            "Number of elements in the tuple: 5\n"
          ]
        }
      ]
    },
    {
      "cell_type": "code",
      "source": [
        "#11. Write a Python program to check if a tuple is empty or not.\n",
        "t = ()\n",
        "if len(t) == 0:\n",
        "    print(\"The tuple is empty.\")\n",
        "else:\n",
        "    print(\"The tuple is not empty.\")"
      ],
      "metadata": {
        "colab": {
          "base_uri": "https://localhost:8080/"
        },
        "id": "I0ifs3_Ya4Bl",
        "outputId": "0cd0ce1a-f9b6-4a36-dfe5-5bebf20432a6"
      },
      "execution_count": 12,
      "outputs": [
        {
          "output_type": "stream",
          "name": "stdout",
          "text": [
            "The tuple is empty.\n"
          ]
        }
      ]
    },
    {
      "cell_type": "code",
      "source": [
        "#12. Write a Python program to check if a given element exists in a list.\n",
        "l = [1, 2, 3, 4, 5]\n",
        "element = 3\n",
        "found = False\n",
        "for item in l:\n",
        "    if item == element:\n",
        "        found = True\n",
        "        break\n",
        "if found:\n",
        "    print(\"Element exists in the list.\")\n",
        "else:\n",
        "    print(\"Element does not exist in the list.\")"
      ],
      "metadata": {
        "colab": {
          "base_uri": "https://localhost:8080/"
        },
        "id": "waBNaVHfbQwM",
        "outputId": "224b0b62-fc0a-4084-a166-342e991cea8b"
      },
      "execution_count": 13,
      "outputs": [
        {
          "output_type": "stream",
          "name": "stdout",
          "text": [
            "Element exists in the list.\n"
          ]
        }
      ]
    },
    {
      "cell_type": "code",
      "source": [
        "#13. Write a Python program to check if a given element exists in a tuple.\n",
        "t = (10, 20, 30, 40)\n",
        "element = 20\n",
        "for item in t:\n",
        "    if item == element:\n",
        "      print(\"Element exists in the tuple.\")\n"
      ],
      "metadata": {
        "colab": {
          "base_uri": "https://localhost:8080/"
        },
        "id": "SlesEHz_bT2p",
        "outputId": "9b59e57e-3a47-48e4-a2f3-7cddca450fc5"
      },
      "execution_count": 19,
      "outputs": [
        {
          "output_type": "stream",
          "name": "stdout",
          "text": [
            "Element exists in the tuple.\n"
          ]
        }
      ]
    },
    {
      "cell_type": "code",
      "source": [
        "#14. Write a Python program to check if a given key exists in a dictionary.\n",
        "d = {'a': 1, 'b': 2, 'c': 3}\n",
        "key = 'b'\n",
        "for k in d:\n",
        "    if k == key:\n",
        "        print(\"Key exists in the dictionary.\")"
      ],
      "metadata": {
        "colab": {
          "base_uri": "https://localhost:8080/"
        },
        "id": "p5lRofkabW7g",
        "outputId": "ee70140e-b10d-4557-a876-9a6c5b2ebbe2"
      },
      "execution_count": 25,
      "outputs": [
        {
          "output_type": "stream",
          "name": "stdout",
          "text": [
            "Key exists in the dictionary.\n"
          ]
        }
      ]
    },
    {
      "cell_type": "code",
      "source": [
        "#15. Write a Python program to find the sum of all even numbers in a list.\n",
        "l = [1, 2, 3, 4, 5, 6]\n",
        "total = 0\n",
        "for item in l:\n",
        "    if item % 2 == 0:\n",
        "        total += item\n",
        "print(\"Sum of even numbers:\", total)"
      ],
      "metadata": {
        "colab": {
          "base_uri": "https://localhost:8080/"
        },
        "id": "eWro86g5ba0w",
        "outputId": "88f254fc-0a5f-4f86-a9b4-9caeb1e301e5"
      },
      "execution_count": 26,
      "outputs": [
        {
          "output_type": "stream",
          "name": "stdout",
          "text": [
            "Sum of even numbers: 12\n"
          ]
        }
      ]
    },
    {
      "cell_type": "code",
      "source": [
        "#16. Write a Python program to find the sum of all odd numbers in a list.\n",
        "l = [1, 2, 3, 4, 5, 6]\n",
        "total = 0\n",
        "for item in l:\n",
        "    if item % 2 != 0:\n",
        "        total += item\n",
        "print(\"Sum of odd numbers:\", total)\n"
      ],
      "metadata": {
        "colab": {
          "base_uri": "https://localhost:8080/"
        },
        "id": "kUVyX5_mbd9v",
        "outputId": "cea1b842-fa9c-469d-cfe8-48f592dc06fa"
      },
      "execution_count": 27,
      "outputs": [
        {
          "output_type": "stream",
          "name": "stdout",
          "text": [
            "Sum of odd numbers: 9\n"
          ]
        }
      ]
    },
    {
      "cell_type": "code",
      "source": [
        "#17. Write a Python program to find the factorial of a number using recursion.\n",
        "n = 5\n",
        "result = 1\n",
        "def fact(x):\n",
        "    if x == 1:\n",
        "        return 1\n",
        "    return x * fact(x - 1)\n",
        "result = fact(n)\n",
        "print(\"Factorial using recursion:\", result)\n"
      ],
      "metadata": {
        "colab": {
          "base_uri": "https://localhost:8080/"
        },
        "id": "Mwkvft8dbhH5",
        "outputId": "a9c9851d-5440-4f16-fd82-e987de341769"
      },
      "execution_count": 28,
      "outputs": [
        {
          "output_type": "stream",
          "name": "stdout",
          "text": [
            "Factorial using recursion: 120\n"
          ]
        }
      ]
    },
    {
      "cell_type": "code",
      "source": [
        "#18. Write a Python program to find the factorial of a number using a loop.\n",
        "n = 5\n",
        "fact = 1\n",
        "i = 1\n",
        "while i <= n:\n",
        "    fact *= i\n",
        "    i += 1\n",
        "print(\"Factorial using loop:\", fact)\n"
      ],
      "metadata": {
        "colab": {
          "base_uri": "https://localhost:8080/"
        },
        "id": "IiaVsMl5bj4x",
        "outputId": "97f625f4-3ee7-47ba-dad3-73afbe9ef1b9"
      },
      "execution_count": 29,
      "outputs": [
        {
          "output_type": "stream",
          "name": "stdout",
          "text": [
            "Factorial using loop: 120\n"
          ]
        }
      ]
    },
    {
      "cell_type": "code",
      "source": [
        "#19. Write a Python program to check if a number is prime or not.\n",
        "num = int(input(\"Enter a number: \"))\n",
        "\n",
        "if num <= 1:\n",
        "    print(num, \"is not a prime number.\")\n",
        "else:\n",
        "    is_prime = True\n",
        "    for i in range(2, num):\n",
        "        if num % i == 0:\n",
        "            is_prime = False\n",
        "            break\n",
        "    if is_prime:\n",
        "        print(num, \"is a prime number.\")\n",
        "    else:\n",
        "        print(num, \"is not a prime number.\")\n"
      ],
      "metadata": {
        "colab": {
          "base_uri": "https://localhost:8080/"
        },
        "id": "EiT7b8JabmY4",
        "outputId": "1fa7d53c-5e8a-41dd-a4a1-dacd34e47e3f"
      },
      "execution_count": 30,
      "outputs": [
        {
          "output_type": "stream",
          "name": "stdout",
          "text": [
            "Enter a number: 7\n",
            "7 is a prime number.\n"
          ]
        }
      ]
    },
    {
      "cell_type": "code",
      "source": [
        "#20. Write a Python program to find the Fibonacci series up to n terms.\n",
        "n = 10\n",
        "a = 0\n",
        "b = 1\n",
        "count = 0\n",
        "while count < n:\n",
        "    print(a, end=' ')\n",
        "    c = a + b\n",
        "    a = b\n",
        "    b = c\n",
        "    count += 1"
      ],
      "metadata": {
        "colab": {
          "base_uri": "https://localhost:8080/"
        },
        "id": "F_6fla-Pbsnc",
        "outputId": "7019f954-d9c3-4a2d-aa2b-53289b2f68f2"
      },
      "execution_count": 31,
      "outputs": [
        {
          "output_type": "stream",
          "name": "stdout",
          "text": [
            "0 1 1 2 3 5 8 13 21 34 "
          ]
        }
      ]
    },
    {
      "cell_type": "code",
      "source": [
        "#21. Write a Python program to find the GCD of two numbers.\n",
        "a = 36\n",
        "b = 60\n",
        "gcd = 1\n",
        "i = 1\n",
        "while i <= a and i <= b:\n",
        "    if a % i == 0 and b % i == 0:\n",
        "        gcd = i\n",
        "    i += 1\n",
        "print(\"GCD of\", a, \"and\", b, \"is\", gcd)\n"
      ],
      "metadata": {
        "colab": {
          "base_uri": "https://localhost:8080/"
        },
        "id": "qNzZaEqZguXr",
        "outputId": "b6b07b0e-ad29-486e-f89c-7fdf925a0d06"
      },
      "execution_count": 32,
      "outputs": [
        {
          "output_type": "stream",
          "name": "stdout",
          "text": [
            "GCD of 36 and 60 is 12\n"
          ]
        }
      ]
    },
    {
      "cell_type": "code",
      "source": [
        "#22. Write a Python program to find the LCM of two numbers.\n",
        "a = 12\n",
        "b = 18\n",
        "if a > b:\n",
        "    greater = a\n",
        "else:\n",
        "    greater = b\n",
        "\n",
        "while True:\n",
        "    if greater % a == 0 and greater % b == 0:\n",
        "        lcm = greater\n",
        "        break\n",
        "    greater += 1\n",
        "print(\"LCM of\", a, \"and\", b, \"is\", lcm)"
      ],
      "metadata": {
        "colab": {
          "base_uri": "https://localhost:8080/"
        },
        "id": "Ae6drFrog47-",
        "outputId": "697410a8-fa35-42e2-9d36-d7a1243de9f3"
      },
      "execution_count": 33,
      "outputs": [
        {
          "output_type": "stream",
          "name": "stdout",
          "text": [
            "LCM of 12 and 18 is 36\n"
          ]
        }
      ]
    },
    {
      "cell_type": "code",
      "source": [
        "#23. Write a Python program to reverse a list.\n",
        "l = [1, 2, 3, 4, 5]\n",
        "reversed_list = []\n",
        "i = len(l) - 1\n",
        "while i >= 0:\n",
        "    reversed_list.append(l[i])\n",
        "    i -= 1\n",
        "print(\"Reversed list:\", reversed_list)\n"
      ],
      "metadata": {
        "colab": {
          "base_uri": "https://localhost:8080/"
        },
        "id": "kdNLAmePg7St",
        "outputId": "9b7147f9-b435-4f8d-b0da-54a23fb4ed23"
      },
      "execution_count": 34,
      "outputs": [
        {
          "output_type": "stream",
          "name": "stdout",
          "text": [
            "Reversed list: [5, 4, 3, 2, 1]\n"
          ]
        }
      ]
    },
    {
      "cell_type": "code",
      "source": [
        "#24. Write a Python program to sort a list in ascending order.\n",
        "l = [5, 2, 9, 1, 5, 6]\n",
        "n = len(l)\n",
        "i = 0\n",
        "while i < n:\n",
        "    j = 0\n",
        "    while j < n - i - 1:\n",
        "        if l[j] > l[j + 1]:\n",
        "            temp = l[j]\n",
        "            l[j] = l[j + 1]\n",
        "            l[j + 1] = temp\n",
        "        j += 1\n",
        "    i += 1\n",
        "print(\"Sorted list in ascending order:\", l)"
      ],
      "metadata": {
        "colab": {
          "base_uri": "https://localhost:8080/"
        },
        "id": "ApmPfi7ehCgP",
        "outputId": "5cbc892d-ce67-463e-b5af-d672ac993b01"
      },
      "execution_count": 36,
      "outputs": [
        {
          "output_type": "stream",
          "name": "stdout",
          "text": [
            "Sorted list in ascending order: [1, 2, 5, 5, 6, 9]\n"
          ]
        }
      ]
    },
    {
      "cell_type": "code",
      "source": [
        "#25. Write a Python program to sort a list in descending order.\n",
        "l = [5, 2, 9, 1, 5, 6]\n",
        "n = len(l)\n",
        "i = 0\n",
        "while i < n:\n",
        "    j = 0\n",
        "    while j < n - i - 1:\n",
        "        if l[j] < l[j + 1]:\n",
        "            temp = l[j]\n",
        "            l[j] = l[j + 1]\n",
        "            l[j + 1] = temp\n",
        "        j += 1\n",
        "    i += 1\n",
        "print(\"Sorted list in descending order:\", l)"
      ],
      "metadata": {
        "colab": {
          "base_uri": "https://localhost:8080/"
        },
        "id": "Qbo4KWwghG3Y",
        "outputId": "b4e9936b-0908-4a0d-8457-bfdcf94d0df0"
      },
      "execution_count": 37,
      "outputs": [
        {
          "output_type": "stream",
          "name": "stdout",
          "text": [
            "Sorted list in descending order: [9, 6, 5, 5, 2, 1]\n"
          ]
        }
      ]
    },
    {
      "cell_type": "code",
      "source": [],
      "metadata": {
        "id": "3Wl_FjCriSPM"
      },
      "execution_count": null,
      "outputs": []
    }
  ]
}