{
  "nbformat": 4,
  "nbformat_minor": 0,
  "metadata": {
    "colab": {
      "provenance": []
    },
    "kernelspec": {
      "name": "python3",
      "display_name": "Python 3"
    },
    "language_info": {
      "name": "python"
    }
  },
  "cells": [
    {
      "cell_type": "markdown",
      "source": [
        "PARAMITA MONDAL"
      ],
      "metadata": {
        "id": "VR6XNB5dBl8f"
      }
    },
    {
      "cell_type": "code",
      "source": [
        "# 1.Write a Python program to take two numbers as input and print their sum.\n",
        "\n",
        "a=5\n",
        "b=10\n",
        "c=a+b\n",
        "print(c)\n"
      ],
      "metadata": {
        "colab": {
          "base_uri": "https://localhost:8080/"
        },
        "id": "OUP6hampf8S1",
        "outputId": "8d35e25d-c538-4ff9-bf2f-c5707e9740d9"
      },
      "execution_count": null,
      "outputs": [
        {
          "output_type": "stream",
          "name": "stdout",
          "text": [
            "15\n"
          ]
        }
      ]
    },
    {
      "cell_type": "code",
      "source": [
        "# 2.Write a Python program to take two numbers as input and print their difference.\n",
        "\n",
        "a=int(input(\"Enter 1st number: \"))\n",
        "b=int(input(\"Enter 2nd number: \"))\n",
        "c=a-b\n",
        "print(\"The difference of two number is:\",c)"
      ],
      "metadata": {
        "colab": {
          "base_uri": "https://localhost:8080/"
        },
        "id": "18ZWL2KdZXab",
        "outputId": "56890c7f-b32a-45a6-f68e-73b526ca28f9"
      },
      "execution_count": null,
      "outputs": [
        {
          "output_type": "stream",
          "name": "stdout",
          "text": [
            "Enter 1st number: 2\n",
            "Enter 2nd number: 5\n",
            "The difference of two number is: -3\n"
          ]
        }
      ]
    },
    {
      "cell_type": "code",
      "source": [
        "# 3.Write a Python program to take two numbers as input and print their product.\n",
        "\n",
        "num1 = int(input(\"Enter first number: \"))\n",
        "num2 = int(input(\"Enter second number: \"))\n",
        "product = num1 * num2\n",
        "print(\"The product of two numbers is:\",product)"
      ],
      "metadata": {
        "colab": {
          "base_uri": "https://localhost:8080/"
        },
        "id": "sdjIad4iZoxA",
        "outputId": "642043bd-b368-4f16-bd28-e90734a9d580"
      },
      "execution_count": null,
      "outputs": [
        {
          "output_type": "stream",
          "name": "stdout",
          "text": [
            "Enter first number: 2\n",
            "Enter second number: 4\n",
            "The product of two numbers is: 8\n"
          ]
        }
      ]
    },
    {
      "cell_type": "code",
      "source": [
        "# 4.Write a Python program to take two numbers as input and print their quotient.\n",
        "a = float(input(\"Enter 1st number: \"))\n",
        "b = float(input(\"Enter 2nd number: \"))\n",
        "c = a/b\n",
        "d = a//b\n",
        "print(c)\n",
        "print(d)"
      ],
      "metadata": {
        "colab": {
          "base_uri": "https://localhost:8080/"
        },
        "id": "JvIZEvTAZqST",
        "outputId": "39a8d55f-39be-4406-918a-8c989a2fc4e6"
      },
      "execution_count": null,
      "outputs": [
        {
          "output_type": "stream",
          "name": "stdout",
          "text": [
            "Enter 1st number: 10\n",
            "Enter 2nd number: 3\n",
            "3.3333333333333335\n",
            "3.0\n"
          ]
        }
      ]
    },
    {
      "cell_type": "code",
      "source": [
        "# 5.Write a Python program to take two numbers as input and print their remainder.\n",
        "num1 = int(input(\"Enter 1st number: \"))\n",
        "num2 = int(input(\"Enter 2nd number: \"))\n",
        "remainder = num1 % num2\n",
        "print(\"The remainder of two number is:\",remainder)"
      ],
      "metadata": {
        "colab": {
          "base_uri": "https://localhost:8080/"
        },
        "id": "NX1OJ6-0ZrYS",
        "outputId": "fc7c5ebb-4ec3-4d25-c297-c6dfde0dc0e5"
      },
      "execution_count": null,
      "outputs": [
        {
          "output_type": "stream",
          "name": "stdout",
          "text": [
            "Enter 1st number: 30\n",
            "Enter 2nd number: 9\n",
            "The remainder of two number is: 3\n"
          ]
        }
      ]
    },
    {
      "cell_type": "code",
      "source": [
        "# 6.Write a Python program to take two numbers as input and print their power.\n",
        "base = float(input(\"Enter first number:\"))\n",
        "exponent = float(input(\"Enter second number\"))\n",
        "power = base**exponent\n",
        "print(\"The power of above two number is:\",power)"
      ],
      "metadata": {
        "id": "PstLfl-8fF1o",
        "colab": {
          "base_uri": "https://localhost:8080/"
        },
        "outputId": "425792b5-bad8-4166-c40d-a792304c310c"
      },
      "execution_count": null,
      "outputs": [
        {
          "output_type": "stream",
          "name": "stdout",
          "text": [
            "Enter first number:2\n",
            "Enter second number3\n",
            "The power of above two number is: 8.0\n"
          ]
        }
      ]
    },
    {
      "cell_type": "code",
      "source": [
        "#7.Write a Python program to take two numbers as input and print their average.\n",
        "num1 = float(input(\"Enter 1st number:\"))\n",
        "num2 = float(input(\"Enter 2nd number:\"))\n",
        "average = (num1+num2)/2\n",
        "print(\"The Average of two number is:\",average)"
      ],
      "metadata": {
        "colab": {
          "base_uri": "https://localhost:8080/"
        },
        "id": "J0gvfn8pO-sp",
        "outputId": "4455c846-99e9-4575-8852-34f2255e7518"
      },
      "execution_count": null,
      "outputs": [
        {
          "output_type": "stream",
          "name": "stdout",
          "text": [
            "Enter 1st number:65\n",
            "Enter 2nd number:43\n",
            "The Average of two number is: 54.0\n"
          ]
        }
      ]
    },
    {
      "cell_type": "code",
      "source": [
        "#8.Write a Python program to take a number as input and print its square root.\n",
        "\n",
        "import math\n",
        "a = int(input(\"Enter a number:\"))\n",
        "sqrt_value = math.sqrt(a)\n",
        "print(\"The square root of a number is:\",sqrt_value)"
      ],
      "metadata": {
        "colab": {
          "base_uri": "https://localhost:8080/"
        },
        "id": "Fbq4-fACO-5H",
        "outputId": "7a00c7e2-543a-4f39-cbd1-657e170a00a9"
      },
      "execution_count": null,
      "outputs": [
        {
          "output_type": "stream",
          "name": "stdout",
          "text": [
            "Enter a number:25\n",
            "The square root of a number is: 5.0\n"
          ]
        }
      ]
    },
    {
      "cell_type": "code",
      "source": [
        "#9.Write a Python program to take a number as input and print its cube root.\n",
        "num = float(input(\"Enter a number:\"))\n",
        "cube_root = num ** (1/3)\n",
        "print(\"The cube root of a number is:\",cube_root)"
      ],
      "metadata": {
        "colab": {
          "base_uri": "https://localhost:8080/"
        },
        "id": "gW2D7u2iO_Gr",
        "outputId": "7c1220d7-2a35-4151-bb4b-812ccccd50eb"
      },
      "execution_count": null,
      "outputs": [
        {
          "output_type": "stream",
          "name": "stdout",
          "text": [
            "Enter a number:35\n",
            "The cube root of a number is: 3.2710663101885897\n"
          ]
        }
      ]
    },
    {
      "cell_type": "code",
      "source": [
        "#10.Write a Python program to take a number as input and print its absolute value.\n",
        "a = int(input(\"Enter a number:\"))\n",
        "absolute_value = abs(a)\n",
        "print(\"The absolute value of a number is:\",absolute_value)"
      ],
      "metadata": {
        "colab": {
          "base_uri": "https://localhost:8080/"
        },
        "id": "Mf0OV6WEPsc4",
        "outputId": "74cd0fc7-38fe-434b-e160-3d9ff205c214"
      },
      "execution_count": null,
      "outputs": [
        {
          "output_type": "stream",
          "name": "stdout",
          "text": [
            "Enter a number:-6\n",
            "The absolute value of a number is: 6\n"
          ]
        }
      ]
    },
    {
      "cell_type": "code",
      "source": [
        "#11.Write a Python program to take a number as input and print its floor value.\n",
        "\n",
        "import math\n",
        "num = float(input(\"Enter a number: \"))\n",
        "floor_value = math.floor(num)\n",
        "print(\"The floor value of a number:\",floor_value)"
      ],
      "metadata": {
        "id": "DAVvUpWIPW6I",
        "colab": {
          "base_uri": "https://localhost:8080/"
        },
        "outputId": "9fd4a3bb-f762-4d10-fb4f-f1ecef5767b3"
      },
      "execution_count": null,
      "outputs": [
        {
          "output_type": "stream",
          "name": "stdout",
          "text": [
            "Enter a number: 6\n",
            "The floor value of a number: 6\n"
          ]
        }
      ]
    },
    {
      "cell_type": "code",
      "source": [
        "#12.Write a Python program to take a number as input and print its ceiling value\n",
        "num = float(input(\"Enter a number:\"))\n",
        "if num == int(num):\n",
        "  ceil_value = int(num)\n",
        "else:\n",
        "  ceil_value = int(num) + 1 if num>0 else int(num)\n",
        "print(\"The ceiling value is:\",ceil_value)"
      ],
      "metadata": {
        "id": "80sSp452PXj5",
        "colab": {
          "base_uri": "https://localhost:8080/"
        },
        "outputId": "df3bfe21-f810-44cb-e181-d40758cc516e"
      },
      "execution_count": null,
      "outputs": [
        {
          "output_type": "stream",
          "name": "stdout",
          "text": [
            "Enter a number:6.2\n",
            "The ceiling value is: 7\n"
          ]
        }
      ]
    }
  ]
}