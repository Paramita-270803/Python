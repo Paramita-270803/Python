{
  "nbformat": 4,
  "nbformat_minor": 0,
  "metadata": {
    "colab": {
      "provenance": []
    },
    "kernelspec": {
      "name": "python3",
      "display_name": "Python 3"
    },
    "language_info": {
      "name": "python"
    }
  },
  "cells": [
    {
      "cell_type": "markdown",
      "source": [
        "PARAMITA MONDAL"
      ],
      "metadata": {
        "id": "VR6XNB5dBl8f"
      }
    },
    {
      "cell_type": "code",
      "source": [
        "#1. Write a Python program that takes two numbers as input and calculates their sum\n",
        "a = int(input(\"Enter 1st number:\"))\n",
        "b = int(input(\"Enter 2nd number:\"))\n",
        "print(\"The sum of two numbers:\",a+b)\n"
      ],
      "metadata": {
        "id": "bKWLgBGQPWMC",
        "colab": {
          "base_uri": "https://localhost:8080/"
        },
        "outputId": "2a2adde8-e595-4763-be80-acbf0d53d316"
      },
      "execution_count": null,
      "outputs": [
        {
          "output_type": "stream",
          "name": "stdout",
          "text": [
            "Enter 1st number:6\n",
            "Enter 2nd number:4\n",
            "The sum of two numbers: 10\n"
          ]
        }
      ]
    },
    {
      "cell_type": "code",
      "source": [
        "#2. Write a Python program that checks if a given number is even or odd and prints an appropriate message.\n",
        "num = int(input(\"Enter a number:\"))\n",
        "if num % 2 == 0:\n",
        "  print(\"It is a even number\")\n",
        "else:\n",
        "  print(\"It is a odd number\")"
      ],
      "metadata": {
        "id": "fBKhP6FCPVRf",
        "colab": {
          "base_uri": "https://localhost:8080/"
        },
        "outputId": "3157ba7b-01c2-4799-a898-f3dac193109d"
      },
      "execution_count": null,
      "outputs": [
        {
          "output_type": "stream",
          "name": "stdout",
          "text": [
            "Enter a number:7\n",
            "It is a odd number\n"
          ]
        }
      ]
    },
    {
      "cell_type": "code",
      "source": [
        "# 3. Write a Python program that takes a user's age as input and prints \"You are aminor\" if the age is less than 18, \"You are an adult\"\n",
        "# if the age is 18 or older but less than 65, and \"You are a senior\" if the age is 65 or older.\n",
        "user_age = int(input(\"Enter a number:\"))\n",
        "if user_age < 18:\n",
        "  print(\"You are aminor\")\n",
        "elif user_age >= 18 and user_age < 65:\n",
        "  print(\"You are an adult\")\n",
        "else:\n",
        "  print(\"You are a senior:\")"
      ],
      "metadata": {
        "id": "fbmmRSchO_TI",
        "colab": {
          "base_uri": "https://localhost:8080/"
        },
        "outputId": "ef9e9be8-414f-4786-e2c7-19782ba4d8a2"
      },
      "execution_count": null,
      "outputs": [
        {
          "output_type": "stream",
          "name": "stdout",
          "text": [
            "Enter a number:65\n",
            "You are a senior:\n"
          ]
        }
      ]
    },
    {
      "cell_type": "code",
      "source": [
        "#4. Write a Python program that calculates the area of a rectangle. It should take the length and width as input from the user.\n",
        "length=input(\"Enter the length of the rectangular: \")\n",
        "width=input(\"Enter the width of the rectangular:\")\n",
        "area=float(length)*float(width)\n",
        "print(\" The area of the rectangular: \",area)"
      ],
      "metadata": {
        "id": "7fMaDs-0O_en",
        "colab": {
          "base_uri": "https://localhost:8080/"
        },
        "outputId": "79f57cca-6f13-4c32-9f03-14709de1a949"
      },
      "execution_count": null,
      "outputs": [
        {
          "output_type": "stream",
          "name": "stdout",
          "text": [
            "Enter the length of the rectangular: 9.7\n",
            "Enter the width of the rectangular:3.2\n",
            " The area of the rectangular:  31.04\n"
          ]
        }
      ]
    },
    {
      "cell_type": "code",
      "source": [
        "#5. Write a Python program that checks if a given year is a leap year. A leap year is a year that is divisible by 4 but not\n",
        "#divisible by 100, except if it is also divisible by 400\n",
        "leap_year = int(input(\"Enter the year:\"))\n",
        "if (leap_year % 4 == 0 and leap_year % 100 != 0) or (leap_year % 400 == 0):\n",
        "  print(\"This is leap year\")\n",
        "else:\n",
        "  print(\"This is not leap year\")"
      ],
      "metadata": {
        "id": "U3gpMBoePAWB",
        "colab": {
          "base_uri": "https://localhost:8080/"
        },
        "outputId": "5b69474f-df10-40f9-fa4f-50b8797890a6"
      },
      "execution_count": null,
      "outputs": [
        {
          "output_type": "stream",
          "name": "stdout",
          "text": [
            "Enter the year:30\n",
            "This is not leap year\n"
          ]
        }
      ]
    },
    {
      "cell_type": "code",
      "source": [
        "#6.Write a Python program that takes a user's score as input and assigns a letter\n",
        "#grade based on the following grading scale:- A: 90-100- B: 80-89- C: 70-79- D: 60-69- F: Below 60\n",
        "user_score = float(input(\"Enter the user's score:\"))\n",
        "if user_score>=90 and user_score<=100:\n",
        "  print(\"A\")\n",
        "elif user_score>=80 and user_score<=89:\n",
        "  print(\"B\")\n",
        "elif user_score>=70 and user_score<=79:\n",
        "  print(\"C\")\n",
        "elif user_score>=60 and user_score<=69:\n",
        "  print(\"D\")\n",
        "else:\n",
        "  print(\"F\")\n"
      ],
      "metadata": {
        "colab": {
          "base_uri": "https://localhost:8080/"
        },
        "id": "LkNbNc9kN7A7",
        "outputId": "d54ed5a3-5c98-49eb-b8b3-4084b20b58b3"
      },
      "execution_count": null,
      "outputs": [
        {
          "output_type": "stream",
          "name": "stdout",
          "text": [
            "Enter the user's score:30\n",
            "F\n"
          ]
        }
      ]
    },
    {
      "cell_type": "code",
      "source": [
        "#7.Write a Python program that asks the user for their name and age. If the user's age is less than 13, print\n",
        "#\"Sorry, you are not eligible for this service.\" Otherwise, print a greeting message with their name\n",
        "name = str(input(\"Enter your name:\"))\n",
        "age = int(input(\"Enter your age:\"))\n",
        "if age<13:\n",
        "  print(\"Sorry, you are not eligible for this service\")\n",
        "else:\n",
        "  print(\"Thank you \"+name)\n"
      ],
      "metadata": {
        "colab": {
          "base_uri": "https://localhost:8080/"
        },
        "id": "iMS3-NDlRI7i",
        "outputId": "56cb8d6a-01ed-41fa-95da-e2d8268dd5a5"
      },
      "execution_count": null,
      "outputs": [
        {
          "output_type": "stream",
          "name": "stdout",
          "text": [
            "Enter your name:paramita\n",
            "Enter your age:20\n",
            "Thank you paramita\n"
          ]
        }
      ]
    },
    {
      "cell_type": "code",
      "source": [
        "# Write a Python program that takes a number as input and checks if it is\n",
        "#positive, negative, or zero. Print an appropriate message based on the input.\n",
        "number = int(input(\"Takes a number:\"))\n",
        "if number>0:\n",
        "  print(\"Positive number\")\n",
        "elif number<0:\n",
        "  print(\"Negative number:\")\n",
        "else:\n",
        "  print(\"Zero\")"
      ],
      "metadata": {
        "id": "JtZuChpZSuNo",
        "colab": {
          "base_uri": "https://localhost:8080/"
        },
        "outputId": "3bd340b0-0511-4ef2-ccd5-c83bb787d8ef"
      },
      "execution_count": null,
      "outputs": [
        {
          "output_type": "stream",
          "name": "stdout",
          "text": [
            "Takes a number:0\n",
            "Zero\n"
          ]
        }
      ]
    },
    {
      "cell_type": "code",
      "source": [
        "#9.Write a Python program that calculates the factorial of a given number. The factorial of a non-negative integer n\n",
        "#is the product of all positive integers less than or equal to n.\n",
        "number = int(input(\"Enter a number: \"))\n",
        "if number < 0:\n",
        "    print(\"Factorial is not defined for negative numbers.\")\n",
        "else:\n",
        "    result = 1\n",
        "    for i in range(2, number + 1):\n",
        "        result *= i\n",
        "    print(\"The factorial of a number is:\",result)\n"
      ],
      "metadata": {
        "colab": {
          "base_uri": "https://localhost:8080/"
        },
        "id": "ZorSUX-gb59o",
        "outputId": "4de51de4-0350-476e-e5be-f463759b9193"
      },
      "execution_count": null,
      "outputs": [
        {
          "output_type": "stream",
          "name": "stdout",
          "text": [
            "Enter a number: 5\n",
            "The factorial of a number is: 120\n"
          ]
        }
      ]
    },
    {
      "cell_type": "code",
      "source": [
        "#10.Write a Python program that checks if a given string is a palindrome. A palindrome is a word, phrase, number, or other sequence of\n",
        "#characters that reads the same forward and backward (ignoring spaces, punctuation, and capitalization)\n",
        "\n",
        "s = input(\"Enter a string:\")\n",
        "rev_str = reversed(s)\n",
        "if list(s) == list(rev_str):\n",
        "   print(\"The string is a palindrome.\")\n",
        "else:\n",
        "   print(\"The string is not a palindrome.\")"
      ],
      "metadata": {
        "id": "6DmMylPbev-p",
        "colab": {
          "base_uri": "https://localhost:8080/"
        },
        "outputId": "c596b60e-ccf0-4902-c137-3243f7053463"
      },
      "execution_count": null,
      "outputs": [
        {
          "output_type": "stream",
          "name": "stdout",
          "text": [
            "Enter a string:level\n",
            "The string is a palindrome.\n"
          ]
        }
      ]
    }
  ]
}