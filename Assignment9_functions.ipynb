{
  "nbformat": 4,
  "nbformat_minor": 0,
  "metadata": {
    "colab": {
      "provenance": []
    },
    "kernelspec": {
      "name": "python3",
      "display_name": "Python 3"
    },
    "language_info": {
      "name": "python"
    }
  },
  "cells": [
    {
      "cell_type": "code",
      "execution_count": 2,
      "metadata": {
        "colab": {
          "base_uri": "https://localhost:8080/"
        },
        "id": "CsyIf2FOG-fA",
        "outputId": "4d5c29da-7992-40de-ec13-dfb524e6d017"
      },
      "outputs": [
        {
          "output_type": "stream",
          "name": "stdout",
          "text": [
            "Count Occurrences: 3\n"
          ]
        }
      ],
      "source": [
        "#1. Function Count:\n",
        "#Write a function count_occurrences that takes a list and a target element as\n",
        "#parameters and returns the number of times the target element appears in the list.\n",
        "\n",
        "def count_occurrences(lst, target):\n",
        "    count = 0\n",
        "    for item in lst:\n",
        "        if item == target:\n",
        "            count += 1\n",
        "    return count\n",
        "print(\"Count Occurrences:\", count_occurrences([1, 2, 2, 3, 2, 4], 2))\n"
      ]
    },
    {
      "cell_type": "code",
      "source": [
        "#2. Function Concatenation:\n",
        "#Create a function concat_lists that takes two lists as parameters and returns a new list\n",
        "#that is the concatenation of the input lists.\n",
        "def concat_lists(list1, list2):\n",
        "    return list1 + list2\n",
        "\n",
        "print(\"Concatenated List:\", concat_lists([1, 2], [3, 4]))\n",
        "\n"
      ],
      "metadata": {
        "colab": {
          "base_uri": "https://localhost:8080/"
        },
        "id": "4oQ6fZe5HGru",
        "outputId": "a540a561-822e-40a1-c6b2-8227a5b007e3"
      },
      "execution_count": 3,
      "outputs": [
        {
          "output_type": "stream",
          "name": "stdout",
          "text": [
            "Concatenated List: [1, 2, 3, 4]\n"
          ]
        }
      ]
    },
    {
      "cell_type": "code",
      "source": [
        "#3. Function Palindrome:\n",
        "#Implement a function is_palindrome that takes a string as a parameter and returns\n",
        "#True if it is a palindrome (reads the same backward as forward), and False otherwise.\n",
        "def is_palindrome(s):\n",
        "    return s == s[::-1]\n",
        "print(\"Is Palindrome ('radar'):\", is_palindrome(\"radar\"))\n",
        "print(\"Is Palindrome ('hello'):\", is_palindrome(\"hello\"))\n",
        "\n"
      ],
      "metadata": {
        "colab": {
          "base_uri": "https://localhost:8080/"
        },
        "id": "65EgUieVHQ6M",
        "outputId": "a151d757-1eae-45f1-b3a5-c5014a4805c1"
      },
      "execution_count": 4,
      "outputs": [
        {
          "output_type": "stream",
          "name": "stdout",
          "text": [
            "Is Palindrome ('radar'): True\n",
            "Is Palindrome ('hello'): False\n"
          ]
        }
      ]
    },
    {
      "cell_type": "code",
      "source": [
        "#4. Function Intersection:\n",
        "#Define a function find_common_elements that takes two lists as parameters and\n",
        "#returns a new list containing the common elements between the two input lists.\n",
        "\n",
        "def find_common_elements(list1, list2):\n",
        "    common = []\n",
        "    for item in list1:\n",
        "        if item in list2 and item not in common:\n",
        "            common.append(item)\n",
        "    return common\n",
        "print(\"Common Elements:\", find_common_elements([1, 2, 3], [2, 3, 4]))\n"
      ],
      "metadata": {
        "colab": {
          "base_uri": "https://localhost:8080/"
        },
        "id": "AtwWAupIHXU4",
        "outputId": "4d23f5b1-2ad2-4ec4-bd75-a8f1ddfe8d79"
      },
      "execution_count": 5,
      "outputs": [
        {
          "output_type": "stream",
          "name": "stdout",
          "text": [
            "Common Elements: [2, 3]\n"
          ]
        }
      ]
    },
    {
      "cell_type": "code",
      "source": [
        "#5. Function Capitalization:\n",
        "#Write a function capitalize_names that takes a list of names as parameters and returns\n",
        "#a new list where each name is capitalized.\n",
        "def capitalize_names(names):\n",
        "    capitalized = []\n",
        "    for name in names:\n",
        "        capitalized.append(name.capitalize())\n",
        "    return capitalized\n",
        "print(\"Capitalized Names:\", capitalize_names([\"john\", \"alice\", \"bob\"]))\n"
      ],
      "metadata": {
        "colab": {
          "base_uri": "https://localhost:8080/"
        },
        "id": "byQLZRfuHdoB",
        "outputId": "ed2668d2-d464-4fe9-9852-6e95f52184ce"
      },
      "execution_count": 6,
      "outputs": [
        {
          "output_type": "stream",
          "name": "stdout",
          "text": [
            "Capitalized Names: ['John', 'Alice', 'Bob']\n"
          ]
        }
      ]
    },
    {
      "cell_type": "code",
      "source": [],
      "metadata": {
        "id": "fiIniErBJCkd"
      },
      "execution_count": null,
      "outputs": []
    }
  ]
}