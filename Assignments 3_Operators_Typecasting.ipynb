{
  "nbformat": 4,
  "nbformat_minor": 0,
  "metadata": {
    "colab": {
      "provenance": []
    },
    "kernelspec": {
      "name": "python3",
      "display_name": "Python 3"
    },
    "language_info": {
      "name": "python"
    }
  },
  "cells": [
    {
      "cell_type": "markdown",
      "source": [
        "PARAMITA MONDAL"
      ],
      "metadata": {
        "id": "VR6XNB5dBl8f"
      }
    },
    {
      "cell_type": "code",
      "source": [
        "#1.Declare an integer variable x with the value 5. Print the value of x.\n",
        "x=5\n",
        "print(x)"
      ],
      "metadata": {
        "colab": {
          "base_uri": "https://localhost:8080/"
        },
        "id": "m1NZhX7Pt-NB",
        "outputId": "60d1c371-1891-4749-b041-9fc8843626bc"
      },
      "execution_count": null,
      "outputs": [
        {
          "output_type": "stream",
          "name": "stdout",
          "text": [
            "5\n"
          ]
        }
      ]
    },
    {
      "cell_type": "code",
      "source": [
        "#2.Create a floating-point variable y with the value 3.14. Print the value of y.\n",
        "y=3.14\n",
        "print(y)"
      ],
      "metadata": {
        "colab": {
          "base_uri": "https://localhost:8080/"
        },
        "id": "c5oZjgjSy6IC",
        "outputId": "8f8c632f-1b34-405a-9c58-94ee3145efa7"
      },
      "execution_count": null,
      "outputs": [
        {
          "output_type": "stream",
          "name": "stdout",
          "text": [
            "3.14\n"
          ]
        }
      ]
    },
    {
      "cell_type": "code",
      "source": [
        "#3.Convert the string \"123\" to an integer and store it in a variable num.\n",
        "my_str =\"123\"\n",
        "num =int(my_str)\n",
        "print(num)"
      ],
      "metadata": {
        "colab": {
          "base_uri": "https://localhost:8080/"
        },
        "id": "Y8hS-L9UzOks",
        "outputId": "8fb94e58-f004-418d-c567-011fdf8aed58"
      },
      "execution_count": null,
      "outputs": [
        {
          "output_type": "stream",
          "name": "stdout",
          "text": [
            "123\n"
          ]
        }
      ]
    },
    {
      "cell_type": "code",
      "source": [
        "#4.Convert the integer 42 to a string and store it in a variable str_num.\n",
        "a = 42\n",
        "str_num = str(a)\n",
        "print(str_num)"
      ],
      "metadata": {
        "colab": {
          "base_uri": "https://localhost:8080/",
          "height": 193
        },
        "id": "ro45oSMazcsK",
        "outputId": "77b54d59-a03d-417c-bbc2-8b490fcda1ac"
      },
      "execution_count": null,
      "outputs": [
        {
          "output_type": "error",
          "ename": "TypeError",
          "evalue": "'str' object is not callable",
          "traceback": [
            "\u001b[0;31m---------------------------------------------------------------------------\u001b[0m",
            "\u001b[0;31mTypeError\u001b[0m                                 Traceback (most recent call last)",
            "\u001b[0;32m<ipython-input-34-42ccbc0f69c2>\u001b[0m in \u001b[0;36m<cell line: 0>\u001b[0;34m()\u001b[0m\n\u001b[1;32m      1\u001b[0m \u001b[0;31m#4.Convert the integer 42 to a string and store it in a variable str_num.\u001b[0m\u001b[0;34m\u001b[0m\u001b[0;34m\u001b[0m\u001b[0m\n\u001b[1;32m      2\u001b[0m \u001b[0ma\u001b[0m \u001b[0;34m=\u001b[0m \u001b[0;36m42\u001b[0m\u001b[0;34m\u001b[0m\u001b[0;34m\u001b[0m\u001b[0m\n\u001b[0;32m----> 3\u001b[0;31m \u001b[0mstr_num\u001b[0m \u001b[0;34m=\u001b[0m \u001b[0mstr\u001b[0m\u001b[0;34m(\u001b[0m\u001b[0ma\u001b[0m\u001b[0;34m)\u001b[0m\u001b[0;34m\u001b[0m\u001b[0;34m\u001b[0m\u001b[0m\n\u001b[0m\u001b[1;32m      4\u001b[0m \u001b[0mprint\u001b[0m\u001b[0;34m(\u001b[0m\u001b[0mstr_num\u001b[0m\u001b[0;34m)\u001b[0m\u001b[0;34m\u001b[0m\u001b[0;34m\u001b[0m\u001b[0m\n",
            "\u001b[0;31mTypeError\u001b[0m: 'str' object is not callable"
          ]
        }
      ]
    },
    {
      "cell_type": "code",
      "source": [
        "#5.Write a Python program that checks if a number entered by the user is both positive and even using the and operator.\n",
        "x=int(input(\"Enter a number:\"))\n",
        "if x>0 and x%2==0:\n",
        "  print(\"The number is both positive and even number\")\n",
        "else:\n",
        "  print(\"The number is not positive and even number\")"
      ],
      "metadata": {
        "id": "rgk50JzP013O",
        "colab": {
          "base_uri": "https://localhost:8080/"
        },
        "outputId": "f604aecb-cb48-40c7-b039-d808c02cef7a"
      },
      "execution_count": null,
      "outputs": [
        {
          "output_type": "stream",
          "name": "stdout",
          "text": [
            "Enter a number:8\n",
            "The number is both positive and even number\n"
          ]
        }
      ]
    },
    {
      "cell_type": "code",
      "source": [
        "#6.Create a Python program that checks if a character entered by the user is either an uppercase letter or a digit using the or operator.\n",
        "char=input(\"Enter a character:\")\n",
        "if char.isupper() or char.digit():\n",
        "  print(\"The character is either an uppercase letter or a digit\")\n",
        "else:\n",
        "  print(\"The character is not either an uppercase letter or a digit\")"
      ],
      "metadata": {
        "id": "9ik1HAqx34Zq",
        "colab": {
          "base_uri": "https://localhost:8080/"
        },
        "outputId": "fc7d12a6-280b-4ede-982e-f460d1dfd6c7"
      },
      "execution_count": null,
      "outputs": [
        {
          "output_type": "stream",
          "name": "stdout",
          "text": [
            "Enter a character:A\n",
            "The character is either an uppercase letter or a digit\n"
          ]
        }
      ]
    },
    {
      "cell_type": "code",
      "source": [
        "#7. Write a Python program that checks if a user-entered string is not empty using the not operator.\n",
        "user_input = input(\"Enter a string: \")\n",
        "if not user_input:\n",
        "    print(\"The entered string is empty.\")\n",
        "else:\n",
        "    print(\"The entered string is not empty.\")"
      ],
      "metadata": {
        "id": "d6d9IZDy35YH",
        "colab": {
          "base_uri": "https://localhost:8080/"
        },
        "outputId": "b419aa72-95f4-4c9a-8ff7-ccece6341831"
      },
      "execution_count": null,
      "outputs": [
        {
          "output_type": "stream",
          "name": "stdout",
          "text": [
            "Enter a string: \n",
            "The entered string is empty.\n"
          ]
        }
      ]
    },
    {
      "cell_type": "code",
      "source": [
        "#8. Create a Python program that checks if a number entered by the user is divisible by either 3 or 5 but not both.\n",
        "number=int(input(\"Enter a number:\"))\n",
        "if number%3==0 or number%5==0:\n",
        "  print(number, \"is divisible by 3 or 5\")\n",
        "else:\n",
        "  print(number, \"is not divisible by 3 or 5\")"
      ],
      "metadata": {
        "id": "w8faKQY_354e",
        "colab": {
          "base_uri": "https://localhost:8080/"
        },
        "outputId": "e4522ffb-3e58-4a7d-b31d-f212559cd9d3"
      },
      "execution_count": null,
      "outputs": [
        {
          "output_type": "stream",
          "name": "stdout",
          "text": [
            "Enter a number:10\n",
            "10 is divisible by 3 or 5\n"
          ]
        }
      ]
    },
    {
      "cell_type": "code",
      "source": [
        "#9. Write a Python program that checks if a student's score is between 0 and 100 (inclusive) using logical\n",
        "#operators. If it is, print \"Valid score,\" otherwise, print \"Invalid score.\"\n",
        "student_score=int(input(\"Enter studen's score:\"))\n",
        "if student_score>=0 and student_score<=100:\n",
        "  print(\"Valid score\")\n",
        "else:\n",
        "  print(\"Invalid score\")\n"
      ],
      "metadata": {
        "id": "Sq4---yQ36es",
        "colab": {
          "base_uri": "https://localhost:8080/"
        },
        "outputId": "29ec4f64-cfe2-4d95-e8e1-36c656653577"
      },
      "execution_count": null,
      "outputs": [
        {
          "output_type": "stream",
          "name": "stdout",
          "text": [
            "Enter studen's score:55\n",
            "Valid score\n"
          ]
        }
      ]
    },
    {
      "cell_type": "code",
      "source": [
        "#10. Create a Python program that asks the user for their age. If their age is between 18 and 65 (inclusive),\n",
        "#print \"You are eligible for work,\" otherwise, print \"You are not eligible for work.\"\n",
        "user_age=int(input(\"Enter a user's age:\"))\n",
        "if user_age>=18 and user_age<=65:\n",
        "  print(\"You are eligible for work\")\n",
        "else:\n",
        "  print(\"You are not eligible for work\")"
      ],
      "metadata": {
        "colab": {
          "base_uri": "https://localhost:8080/"
        },
        "id": "41oRTrzksK79",
        "outputId": "0a23f06e-b0bf-4047-8fa7-10aaff7075c1"
      },
      "execution_count": null,
      "outputs": [
        {
          "output_type": "stream",
          "name": "stdout",
          "text": [
            "Enter a user's age:70\n",
            "You are not eligible for work\n"
          ]
        }
      ]
    },
    {
      "cell_type": "code",
      "source": [
        "#11. Write a Python program that takes a number as input from the user and doubles it using the *= assignment operator. Print the result.\n",
        "user_input=int(input(\"Enter a number:\"))\n",
        "user_input*=2\n",
        "print(user_input)"
      ],
      "metadata": {
        "colab": {
          "base_uri": "https://localhost:8080/"
        },
        "id": "jbjETrJRymSk",
        "outputId": "ee19f548-2155-4e78-de55-7be1fd38c5e6"
      },
      "execution_count": null,
      "outputs": [
        {
          "output_type": "stream",
          "name": "stdout",
          "text": [
            "Enter a number:5\n",
            "10\n"
          ]
        }
      ]
    },
    {
      "cell_type": "code",
      "source": [
        "#12. Write a Python program to swap the values of two variables x and y without using a temporary variable, using assignment operators.\n",
        "a = int(input(\"Enter 1st number: \"))\n",
        "b = int(input(\"Enter 2nd number: \"))\n",
        "a = a + b\n",
        "b = a - b\n",
        "a = a - b\n",
        "print(\"After swapping:\")\n",
        "print(\"a= \",a)\n",
        "print(\"b= \",b)"
      ],
      "metadata": {
        "colab": {
          "base_uri": "https://localhost:8080/"
        },
        "id": "iMdD_U0vyzqA",
        "outputId": "da462309-cfed-496b-ddc7-f6adeacd5374"
      },
      "execution_count": null,
      "outputs": [
        {
          "output_type": "stream",
          "name": "stdout",
          "text": [
            "Enter 1st number: 10\n",
            "Enter 2nd number: 20\n",
            "After swapping:\n",
            "a=  20\n",
            "b=  10\n"
          ]
        }
      ]
    },
    {
      "cell_type": "code",
      "source": [
        "#13. Implement a Python program that keeps doubling a number x until it reaches or exceeds 100, using assignment operators.\n",
        "x=int(input(\"Enter a number:\"))\n",
        "while x<=100:\n",
        "  x*=2\n",
        "  print(x)"
      ],
      "metadata": {
        "colab": {
          "base_uri": "https://localhost:8080/"
        },
        "id": "O5FVIa1ey00B",
        "outputId": "0b440e39-2452-42da-e8ce-014fec6a40db"
      },
      "execution_count": null,
      "outputs": [
        {
          "output_type": "stream",
          "name": "stdout",
          "text": [
            "Enter a number:12\n",
            "24\n",
            "48\n",
            "96\n",
            "192\n"
          ]
        }
      ]
    },
    {
      "cell_type": "code",
      "source": [
        "#14. Create a Python program that calculates and prints the average of three numbers entered by the user using the /= assignment operator.\n",
        "a = int(input(\"Enter the first number: \"))\n",
        "b = int(input(\"Enter the second number: \"))\n",
        "c = int(input(\"Enter the third number: \"))\n",
        "total = a + b + c\n",
        "total /= 3\n",
        "print(\"The average of the three numbers is:\", total)\n"
      ],
      "metadata": {
        "colab": {
          "base_uri": "https://localhost:8080/"
        },
        "id": "hPVSUM8wy1zq",
        "outputId": "53b93ba6-d38a-4512-8df3-dcc1c2ed35aa"
      },
      "execution_count": null,
      "outputs": [
        {
          "output_type": "stream",
          "name": "stdout",
          "text": [
            "Enter the first number: 5\n",
            "Enter the second number: 7\n",
            "Enter the third number: 3\n",
            "The average of the three numbers is: 5.0\n"
          ]
        }
      ]
    },
    {
      "cell_type": "code",
      "source": [
        "#15.Write a Python program that calculates and prints the square of a number entered by the user using the **= assignment operator.\n",
        "num=int(input(\"Enter a number:\"))\n",
        "num**=2\n",
        "print(num)\n"
      ],
      "metadata": {
        "colab": {
          "base_uri": "https://localhost:8080/"
        },
        "id": "Cgy9O63Yy2ip",
        "outputId": "a392d6a9-78e9-4187-a157-54411eb712a2"
      },
      "execution_count": null,
      "outputs": [
        {
          "output_type": "stream",
          "name": "stdout",
          "text": [
            "Enter a number:7\n",
            "49\n"
          ]
        }
      ]
    },
    {
      "cell_type": "code",
      "source": [
        "#16.Create a Python program that compares the lengths of two strings entered by the user and prints\n",
        "#whether they have the same length, different lengths, or if one is longer than the other.\n",
        "string1 = input(\"Enter the first string: \")\n",
        "string2 = input(\"Enter the second string: \")\n",
        "if len(string1) == len(string2):\n",
        "    print(\"The two strings have the same length.\")\n",
        "elif len(string1) > len(string2):\n",
        "    print(\"The first string is longer than the second string.\")\n",
        "    print(\"The first string is longer by\", len(string1) - len(string2), \"characters.\")\n",
        "else:\n",
        "    print(\"The second string is longer than the first string.\")"
      ],
      "metadata": {
        "colab": {
          "base_uri": "https://localhost:8080/"
        },
        "id": "FWITaJXX7Ydf",
        "outputId": "04f08af3-f4a7-40f3-99e6-00f293c980fa"
      },
      "execution_count": null,
      "outputs": [
        {
          "output_type": "stream",
          "name": "stdout",
          "text": [
            "Enter the first string: hgfdi\n",
            "Enter the second string: jhgfde\n",
            "The second string is longer than the first string.\n"
          ]
        }
      ]
    },
    {
      "cell_type": "code",
      "source": [
        "#17.Write a Python program that checks if a given year is a leap year or not, using comparison operators to check divisibility.\n",
        "year = int(input(\"Enter a year: \"))\n",
        "if year%4==0:\n",
        "  print(year, \"is a leap year\")\n",
        "else:\n",
        "  print(year, \"is not a leap yesr\")"
      ],
      "metadata": {
        "id": "yZ9SvKQ-9UzX",
        "colab": {
          "base_uri": "https://localhost:8080/"
        },
        "outputId": "68ac37a4-5b7f-4e94-a8c0-2ff011a1d83e"
      },
      "execution_count": null,
      "outputs": [
        {
          "output_type": "stream",
          "name": "stdout",
          "text": [
            "Enter a year: 2008\n",
            "2008 is a leap year\n"
          ]
        }
      ]
    },
    {
      "cell_type": "code",
      "source": [
        "#18.Calculate the result of 7 divided by 2 and assign it to a variable result.\n",
        "result = 7/2\n",
        "print(result)"
      ],
      "metadata": {
        "id": "Bogu4YXt9e1k",
        "colab": {
          "base_uri": "https://localhost:8080/"
        },
        "outputId": "5f1a5bbe-78b5-4a52-f781-c9ca906183e5"
      },
      "execution_count": null,
      "outputs": [
        {
          "output_type": "stream",
          "name": "stdout",
          "text": [
            "3.5\n"
          ]
        }
      ]
    },
    {
      "cell_type": "code",
      "source": [
        "#19. Calculate the remainder when 17 is divided by 5 and store it in a variable remaind\n",
        "remaind = 17%5\n",
        "print(remaind)"
      ],
      "metadata": {
        "id": "qgwkIeud9lRY",
        "colab": {
          "base_uri": "https://localhost:8080/"
        },
        "outputId": "0b286350-2945-4a4a-b0d1-15d97a57cc7c"
      },
      "execution_count": null,
      "outputs": [
        {
          "output_type": "stream",
          "name": "stdout",
          "text": [
            "2\n"
          ]
        }
      ]
    },
    {
      "cell_type": "code",
      "source": [
        "#20. Write a Python program that calculates the sum of all even numbers between 1 and 50 using arithmetic operators and loops.\n",
        "sum = 0\n",
        "for number in range(1, 51):\n",
        "  if number%2==0:\n",
        "    sum+=number\n",
        "print(sum)"
      ],
      "metadata": {
        "id": "aFusdsBo9yYL",
        "colab": {
          "base_uri": "https://localhost:8080/"
        },
        "outputId": "f88af560-5560-4576-8adb-728f7a98ec70"
      },
      "execution_count": null,
      "outputs": [
        {
          "output_type": "stream",
          "name": "stdout",
          "text": [
            "650\n"
          ]
        }
      ]
    },
    {
      "cell_type": "code",
      "source": [
        "#21.Write a Python program that takes two numbers as input from the user and prints their sum.\n",
        "a=int(input(\"Enter first number:\"))\n",
        "b=int(input(\"Enter second number:\"))\n",
        "sum=a+b\n",
        "print(\"Sum of \",a,\" and \",b,\" is: \",sum)"
      ],
      "metadata": {
        "id": "hei8SAXb9-Jw",
        "colab": {
          "base_uri": "https://localhost:8080/"
        },
        "outputId": "fa139e2e-e60a-4033-8a60-f45ce196c69b"
      },
      "execution_count": null,
      "outputs": [
        {
          "output_type": "stream",
          "name": "stdout",
          "text": [
            "Enter first number:97\n",
            "Enter second number:86\n",
            "Sum of  97  and  86  is:  183\n"
          ]
        }
      ]
    },
    {
      "cell_type": "code",
      "source": [
        "#22. Write a Python program that takes two numbers as input from the user, but with a twist. The program should only accept input if the sum\n",
        "#of the two numbers is less than 100. If the sum is 100 or greater, the program should ask the user to re-enter both numbers until\n",
        "#the sum is less than 100, and then it should print the sum. Using Loop\n",
        "while True:\n",
        "    num1 = int(input(\"Enter the first number: \"))\n",
        "    num2 = int(input(\"Enter the second number: \"))\n",
        "    total = num1 + num2\n",
        "    if total < 100:\n",
        "        print(\"The sum of the two numbers is:\", total)\n",
        "        break\n",
        "    else:\n",
        "        print(\"The sum is 100 or greater. Please re-enter both numbers.\")"
      ],
      "metadata": {
        "id": "iVHuDcyQ9-zi",
        "colab": {
          "base_uri": "https://localhost:8080/"
        },
        "outputId": "36a75bd7-a479-49d3-9172-05fbbeebe8b0"
      },
      "execution_count": null,
      "outputs": [
        {
          "output_type": "stream",
          "name": "stdout",
          "text": [
            "Enter the first number: 56\n",
            "Enter the second number: 87\n",
            "The sum is 100 or greater. Please re-enter both numbers.\n",
            "Enter the first number: 54\n",
            "Enter the second number: 33\n",
            "The sum of the two numbers is: 87\n"
          ]
        }
      ]
    },
    {
      "cell_type": "code",
      "source": [
        "#Write a program that calculates and prints the area of a rectangle given its length and width  (inputs from the user).\n",
        "length=float(input(\"Enter the length:\"))\n",
        "width=float(input(\"Enter the width:\"))\n",
        "area=length*width\n",
        "print(area)"
      ],
      "metadata": {
        "id": "WSI33uBv-oIu",
        "colab": {
          "base_uri": "https://localhost:8080/"
        },
        "outputId": "3b53b0b4-acfc-4e56-b4d4-ae5e71e3ea7e"
      },
      "execution_count": null,
      "outputs": [
        {
          "output_type": "stream",
          "name": "stdout",
          "text": [
            "Enter the length:76\n",
            "Enter the width:32\n",
            "2432.0\n"
          ]
        }
      ]
    },
    {
      "cell_type": "code",
      "source": [
        "#Take two number inputs from user.\n",
        "#1. Find out the square of the given two numbers and store the value in different two variables\n",
        "#2. Find out the average of the numbers\n",
        "#3. Find out the datatype of the average value\n",
        "#4. Now find out the remainder of the Average value when the value is divided by 2\n",
        "#5. Print the final outcome in Integer Format\n",
        "# Step 1: Take two number inputs from the user\n",
        "\n",
        "num1 = int(input(\"Enter the first number: \"))\n",
        "num2 = int(input(\"Enter the second number: \"))\n",
        "\n",
        "square1 = num1 ** 2\n",
        "square2 = num2 ** 2\n",
        "\n",
        "average = (num1 + num2) / 2\n",
        "\n",
        "datatype = type(average)\n",
        "\n",
        "remainder = average % 2\n",
        "\n",
        "print(\"Final outcome in integer format:\", int(remainder))"
      ],
      "metadata": {
        "id": "ymijrSTq_Zv8",
        "colab": {
          "base_uri": "https://localhost:8080/"
        },
        "outputId": "1f5f280d-3129-4512-88fb-50e1416765c0"
      },
      "execution_count": null,
      "outputs": [
        {
          "output_type": "stream",
          "name": "stdout",
          "text": [
            "Enter the first number: 18\n",
            "Enter the second number: 8\n",
            "Final outcome in integer format: 1\n"
          ]
        }
      ]
    }
  ]
}