{
  "nbformat": 4,
  "nbformat_minor": 0,
  "metadata": {
    "colab": {
      "provenance": []
    },
    "kernelspec": {
      "name": "python3",
      "display_name": "Python 3"
    },
    "language_info": {
      "name": "python"
    }
  },
  "cells": [
    {
      "cell_type": "code",
      "execution_count": 1,
      "metadata": {
        "colab": {
          "base_uri": "https://localhost:8080/"
        },
        "id": "qwleAVzDJlQG",
        "outputId": "84a87f81-37a0-4cf3-d79f-dc3760fa1123"
      },
      "outputs": [
        {
          "output_type": "stream",
          "name": "stdout",
          "text": [
            "Enter first string: 7\n",
            "Enter second string: 5\n",
            "Concatenated String: 75\n"
          ]
        }
      ],
      "source": [
        "#1. String Concatenation:\n",
        "#Write a program that takes two strings as input and prints their concatenation.\n",
        "str1 = input(\"Enter first string: \")\n",
        "str2 = input(\"Enter second string: \")\n",
        "print(\"Concatenated String:\", str1 + str2)\n"
      ]
    },
    {
      "cell_type": "code",
      "source": [
        "#2. String Length:\n",
        "#Create a function that takes a string as input and returns its length.\n",
        "def string_length(s):\n",
        "    return len(s)\n",
        "print(\"String Length:\", string_length(\"hello\"))\n"
      ],
      "metadata": {
        "colab": {
          "base_uri": "https://localhost:8080/"
        },
        "id": "IHfiGWuYJtX3",
        "outputId": "f407e908-e1b8-470e-e7cc-d58de803fec8"
      },
      "execution_count": 2,
      "outputs": [
        {
          "output_type": "stream",
          "name": "stdout",
          "text": [
            "String Length: 5\n"
          ]
        }
      ]
    },
    {
      "cell_type": "code",
      "source": [
        "#3. String Repetition:\n",
        "#Write a program that takes a string and an integer as input and prints the string repeated that many times.\n",
        "s = input(\"Enter a string: \")\n",
        "n = int(input(\"Enter number of repetitions: \"))\n",
        "print(\"Repeated String:\", s * n)"
      ],
      "metadata": {
        "colab": {
          "base_uri": "https://localhost:8080/"
        },
        "id": "p2c9TzweJz4N",
        "outputId": "ce9cccb6-5d90-4f0b-efdf-3b8f5875b9d0"
      },
      "execution_count": 3,
      "outputs": [
        {
          "output_type": "stream",
          "name": "stdout",
          "text": [
            "Enter a string: data\n",
            "Enter number of repetitions: 2\n",
            "Repeated String: datadata\n"
          ]
        }
      ]
    },
    {
      "cell_type": "code",
      "source": [
        "#4. String Upper and Lower:\n",
        "#Create a program that takes a string as input and prints it in both uppercase and lowercase.\n",
        "s = input(\"Enter a string: \")\n",
        "print(\"Uppercase:\", s.upper())\n",
        "print(\"Lowercase:\", s.lower())\n",
        ""
      ],
      "metadata": {
        "colab": {
          "base_uri": "https://localhost:8080/"
        },
        "id": "w96o5AQAJ55o",
        "outputId": "67a6cced-8712-4268-c7c9-0bf1b2426dfa"
      },
      "execution_count": 4,
      "outputs": [
        {
          "output_type": "stream",
          "name": "stdout",
          "text": [
            "Enter a string: Data\n",
            "Uppercase: DATA\n",
            "Lowercase: data\n"
          ]
        }
      ]
    },
    {
      "cell_type": "code",
      "source": [
        "#5. String Slicing:\n",
        "#Write a program that takes a string as input and prints its first three characters.\n",
        "s = input(\"Enter a string: \")\n",
        "print(\"First 3 characters:\", s[:3])\n",
        ""
      ],
      "metadata": {
        "colab": {
          "base_uri": "https://localhost:8080/"
        },
        "id": "voXvlQ_OJ-ro",
        "outputId": "291c0fbe-da02-4032-f428-ea7d64812a95"
      },
      "execution_count": 5,
      "outputs": [
        {
          "output_type": "stream",
          "name": "stdout",
          "text": [
            "Enter a string: paramita\n",
            "First 3 characters: par\n"
          ]
        }
      ]
    },
    {
      "cell_type": "code",
      "source": [
        "#6. Count Vowels:\n",
        "#Create a function that takes a string as input and returns the count of vowels (a, e, i, o, u) in the string.\n",
        "def count_vowels(s):\n",
        "    vowels = \"aeiouAEIOU\"\n",
        "    count = 0\n",
        "    for char in s:\n",
        "        if char in vowels:\n",
        "            count += 1\n",
        "    return count\n",
        "print(\"Vowel Count:\", count_vowels(\"paramita\"))\n",
        ""
      ],
      "metadata": {
        "colab": {
          "base_uri": "https://localhost:8080/"
        },
        "id": "iONu6X5wKDoo",
        "outputId": "373a8f81-a9b7-4953-f3bb-fb3794f68c7f"
      },
      "execution_count": 7,
      "outputs": [
        {
          "output_type": "stream",
          "name": "stdout",
          "text": [
            "Vowel Count: 4\n"
          ]
        }
      ]
    },
    {
      "cell_type": "code",
      "source": [
        "#7. String Palindrome Check:\n",
        "#Write a function that checks if a given string is a palindrome (reads the same backward as forward).\n",
        "def is_palindrome(s):\n",
        "    return s == s[::-1]\n",
        "print(\"Is Palindrome:\", is_palindrome(\"madam\"))"
      ],
      "metadata": {
        "colab": {
          "base_uri": "https://localhost:8080/"
        },
        "id": "cFGFB6eeKJLi",
        "outputId": "597b7daf-871d-4e3b-aa3b-4bbd446e52fe"
      },
      "execution_count": 8,
      "outputs": [
        {
          "output_type": "stream",
          "name": "stdout",
          "text": [
            "Is Palindrome: True\n"
          ]
        }
      ]
    },
    {
      "cell_type": "code",
      "source": [
        "#8. String Replace:\n",
        "#Create a program that takes a string and replaces all occurrences of the letter 'a' with 'z'.\n",
        "s = input(\"Enter a string: \")\n",
        "print(\"Replaced String:\", s.replace('a', 'z'))\n",
        ""
      ],
      "metadata": {
        "colab": {
          "base_uri": "https://localhost:8080/"
        },
        "id": "i_y_H_gbKNmG",
        "outputId": "d8cbc708-1590-4554-c635-72f13656efd5"
      },
      "execution_count": 9,
      "outputs": [
        {
          "output_type": "stream",
          "name": "stdout",
          "text": [
            "Enter a string: paramita\n",
            "Replaced String: pzrzmitz\n"
          ]
        }
      ]
    },
    {
      "cell_type": "code",
      "source": [
        "#9. String Contains Substring:\n",
        "#Write a function that takes two strings as input and checks if the second string is a substring of the first.\n",
        "def contains_substring(main_str, sub_str):\n",
        "    return sub_str in main_str\n",
        "print(\"Contains Substring:\", contains_substring(\"hello world\", \"world\"))\n",
        ""
      ],
      "metadata": {
        "colab": {
          "base_uri": "https://localhost:8080/"
        },
        "id": "WyuZ7YHYKSCy",
        "outputId": "dde12a82-a9f4-4617-b6b9-97a00b37c0d7"
      },
      "execution_count": 10,
      "outputs": [
        {
          "output_type": "stream",
          "name": "stdout",
          "text": [
            "Contains Substring: True\n"
          ]
        }
      ]
    },
    {
      "cell_type": "code",
      "source": [
        "#10. String Count:\n",
        "#Create a program that takes a string and a character as input, and prints the number of times the character appears in the string.\n",
        "s = input(\"Enter a string: \")\n",
        "ch = input(\"Enter a character to count: \")\n",
        "print(\"Character Count:\", s.count(ch))\n"
      ],
      "metadata": {
        "colab": {
          "base_uri": "https://localhost:8080/"
        },
        "id": "RCdfs7lEKWcS",
        "outputId": "cfe14d37-3c56-4c6f-b245-bd8b75c79267"
      },
      "execution_count": 11,
      "outputs": [
        {
          "output_type": "stream",
          "name": "stdout",
          "text": [
            "Enter a string: data\n",
            "Enter a character to count: a\n",
            "Character Count: 2\n"
          ]
        }
      ]
    },
    {
      "cell_type": "code",
      "source": [
        "#11. String Capitalization:\n",
        "#Write a program that takes a sentence as input and prints it with the first letter of each word capitalized.\n",
        "sentence = input(\"Enter a sentence: \")\n",
        "print(\"Capitalized:\", sentence.title())\n",
        ""
      ],
      "metadata": {
        "colab": {
          "base_uri": "https://localhost:8080/"
        },
        "id": "X_QRR_3OM2Hk",
        "outputId": "058bc5d3-b8e4-4e2b-9e53-2824bb4963d3"
      },
      "execution_count": 13,
      "outputs": [
        {
          "output_type": "stream",
          "name": "stdout",
          "text": [
            "Enter a sentence: computer application\n",
            "Capitalized: Computer Application\n"
          ]
        }
      ]
    },
    {
      "cell_type": "code",
      "source": [
        "#12. String Formatting:\n",
        "#Create a program that formats a given string with placeholder values. For example, given\n",
        "#\"Hello, {}!\", input a name to replace the placeholder.\n",
        "name = input(\"Enter your name: \")\n",
        "print(\"Hello, {}!\".format(name))\n",
        ""
      ],
      "metadata": {
        "colab": {
          "base_uri": "https://localhost:8080/"
        },
        "id": "hufZMTp-NMC2",
        "outputId": "817246f5-12c2-4d94-e1a1-8703c3a71b45"
      },
      "execution_count": 15,
      "outputs": [
        {
          "output_type": "stream",
          "name": "stdout",
          "text": [
            "Enter your name: Maam\n",
            "Hello, Maam!\n"
          ]
        }
      ]
    },
    {
      "cell_type": "code",
      "source": [
        "#13. String Reverse:\n",
        "#Write a function that takes a string as input and prints it in reverse order.\n",
        "\n",
        "def reverse_string(s):\n",
        "    print(\"Reversed String:\", s[::-1])\n",
        "reverse_string(\"hello\")\n",
        ""
      ],
      "metadata": {
        "colab": {
          "base_uri": "https://localhost:8080/"
        },
        "id": "S52A_-P7NU3_",
        "outputId": "8a893927-967f-4f37-def9-5c56922f8bdc"
      },
      "execution_count": 18,
      "outputs": [
        {
          "output_type": "stream",
          "name": "stdout",
          "text": [
            "Reversed String: olleh\n"
          ]
        }
      ]
    },
    {
      "cell_type": "code",
      "source": [
        "#14. String Join:\n",
        "#Create a program that takes a list of words and joins them into a single string separated by spaces.\n",
        "withords = [\"hello\", \"world\", \"python\"]\n",
        "joined = \" \".join(words)\n",
        "print(joined)"
      ],
      "metadata": {
        "colab": {
          "base_uri": "https://localhost:8080/"
        },
        "id": "_8d0lmn7NbCB",
        "outputId": "2f8df92b-1f8c-4f68-a205-b282e693a672"
      },
      "execution_count": 19,
      "outputs": [
        {
          "output_type": "stream",
          "name": "stdout",
          "text": [
            "hello world python\n"
          ]
        }
      ]
    },
    {
      "cell_type": "code",
      "source": [
        "#15. String Indexing:\n",
        "#Write a program that takes a string as input and prints the last character.\n",
        "s = input(\"Enter a string: \")\n",
        "print(\"Last Character:\", s[-1])\n"
      ],
      "metadata": {
        "colab": {
          "base_uri": "https://localhost:8080/"
        },
        "id": "0hYSvcOjNg62",
        "outputId": "876560c9-37c2-4d42-c406-a01ad3383e4b"
      },
      "execution_count": 20,
      "outputs": [
        {
          "output_type": "stream",
          "name": "stdout",
          "text": [
            "Enter a string: hello\n",
            "Last Character: o\n"
          ]
        }
      ]
    },
    {
      "cell_type": "code",
      "source": [
        "#16. String Count Words:\n",
        "#Create a function that takes a sentence as input and returns the number of words in the sentence.\n",
        "def count_words(sentence):\n",
        "    return len(sentence.split())\n",
        "print(\"Word Count:\", count_words(\"This is a test sentence\"))\n",
        ""
      ],
      "metadata": {
        "colab": {
          "base_uri": "https://localhost:8080/"
        },
        "id": "JTPQvYT9NoUJ",
        "outputId": "d021b535-e706-483a-a143-e4f6fe49b9af"
      },
      "execution_count": 21,
      "outputs": [
        {
          "output_type": "stream",
          "name": "stdout",
          "text": [
            "Word Count: 5\n"
          ]
        }
      ]
    },
    {
      "cell_type": "code",
      "source": [
        "#17. String Uppercase Count:\n",
        "#Write a function that takes a string as input and returns the count of uppercase letters in the string.\n",
        "def count_uppercase(s):\n",
        "    count = 0\n",
        "    for char in s:\n",
        "        if char.isupper():\n",
        "            count += 1\n",
        "    return count\n",
        "print(\"Uppercase Count:\", count_uppercase(\"Hello World! PYTHON\"))\n",
        ""
      ],
      "metadata": {
        "colab": {
          "base_uri": "https://localhost:8080/"
        },
        "id": "zNqCNt_9NtaH",
        "outputId": "93bbf26d-92f3-4656-f157-3c1c82b19d28"
      },
      "execution_count": 22,
      "outputs": [
        {
          "output_type": "stream",
          "name": "stdout",
          "text": [
            "Uppercase Count: 8\n"
          ]
        }
      ]
    },
    {
      "cell_type": "code",
      "source": [
        "#18. String Title Case:\n",
        "#Create a program that takes a string as input and prints it in title case (the first letter of each word capitalized).\n",
        "s = input(\"Enter a string: \")\n",
        "print(\"Title Case:\", s.title())\n",
        ""
      ],
      "metadata": {
        "colab": {
          "base_uri": "https://localhost:8080/"
        },
        "id": "xW_XnkQDNzXa",
        "outputId": "1681a612-0d3e-49e3-f789-fac43cc24a11"
      },
      "execution_count": 23,
      "outputs": [
        {
          "output_type": "stream",
          "name": "stdout",
          "text": [
            "Enter a string: data analyst\n",
            "Title Case: Data Analyst\n"
          ]
        }
      ]
    },
    {
      "cell_type": "code",
      "source": [
        "#19. String Swap Case:\n",
        "#Write a function that takes a string as input and returns a new string with the case of each\n",
        "#letter swapped (e.g., 'a' becomes 'A' and vice versa).\n",
        "def swap_case(s):\n",
        "    return s.swapcase()\n",
        "print(\"Swapped Case:\", swap_case(\"Hello PYTHON\"))\n",
        ""
      ],
      "metadata": {
        "colab": {
          "base_uri": "https://localhost:8080/"
        },
        "id": "AvWGClyDN9Bq",
        "outputId": "b85207a6-c598-4602-bad7-d91f6e44ad94"
      },
      "execution_count": 24,
      "outputs": [
        {
          "output_type": "stream",
          "name": "stdout",
          "text": [
            "Swapped Case: hELLO python\n"
          ]
        }
      ]
    },
    {
      "cell_type": "code",
      "source": [
        "#20. String Split:\n",
        "#Create a program that takes a sentence as input and prints each word on a new line using the split method\n",
        "sentence = input(\"Enter a sentence: \")\n",
        "words = sentence.split()\n",
        "for word in words:\n",
        "    print(word)\n"
      ],
      "metadata": {
        "colab": {
          "base_uri": "https://localhost:8080/"
        },
        "id": "cZ_GVHtmOCv0",
        "outputId": "48671136-d834-46b9-ab2c-af0485e90b0c"
      },
      "execution_count": 26,
      "outputs": [
        {
          "output_type": "stream",
          "name": "stdout",
          "text": [
            "Enter a sentence: python is best\n",
            "python\n",
            "is\n",
            "best\n"
          ]
        }
      ]
    },
    {
      "cell_type": "code",
      "source": [],
      "metadata": {
        "id": "c-Xd581sQgTw"
      },
      "execution_count": null,
      "outputs": []
    }
  ]
}