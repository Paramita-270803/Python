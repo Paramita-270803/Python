{
  "nbformat": 4,
  "nbformat_minor": 0,
  "metadata": {
    "colab": {
      "provenance": []
    },
    "kernelspec": {
      "name": "python3",
      "display_name": "Python 3"
    },
    "language_info": {
      "name": "python"
    }
  },
  "cells": [
    {
      "cell_type": "markdown",
      "source": [
        "Paramita Mondal"
      ],
      "metadata": {
        "id": "8dz9YcNxpABu"
      }
    },
    {
      "cell_type": "code",
      "execution_count": 4,
      "metadata": {
        "colab": {
          "base_uri": "https://localhost:8080/"
        },
        "id": "Yjzk-c7Uo-Vf",
        "outputId": "31e3264b-c065-4a0b-b7a7-3b145cab23f2"
      },
      "outputs": [
        {
          "output_type": "stream",
          "name": "stdout",
          "text": [
            "15\n"
          ]
        }
      ],
      "source": [
        "#1. Write a Python program to sum all the items in a list.\n",
        "l=[1,2,3,4,5]\n",
        "add=sum(l)\n",
        "print(add)"
      ]
    },
    {
      "cell_type": "code",
      "source": [
        "#2. Write a Python program to find the largest number in a list.\n",
        "l=[1,2,3,9,8,7,5,6]\n",
        "print(max(l))"
      ],
      "metadata": {
        "colab": {
          "base_uri": "https://localhost:8080/"
        },
        "id": "jRmfnHdRpP5C",
        "outputId": "2a116db0-ab31-42ec-ced4-b7709690d25e"
      },
      "execution_count": 5,
      "outputs": [
        {
          "output_type": "stream",
          "name": "stdout",
          "text": [
            "9\n"
          ]
        }
      ]
    },
    {
      "cell_type": "code",
      "source": [
        "#3. Write a Python program to find the smallest number in a list.\n",
        "l=[7,8,6,5,3,1,4]\n",
        "print(min(l))"
      ],
      "metadata": {
        "colab": {
          "base_uri": "https://localhost:8080/"
        },
        "id": "_Mb7lkYppS16",
        "outputId": "6b26130f-75d6-4aa6-e189-e22d6d850191"
      },
      "execution_count": 6,
      "outputs": [
        {
          "output_type": "stream",
          "name": "stdout",
          "text": [
            "1\n"
          ]
        }
      ]
    },
    {
      "cell_type": "code",
      "source": [
        "#4. Write a Python program to count the number of elements in a list.\n",
        "l=[1,4,5,6,8]\n",
        "print(len(l))"
      ],
      "metadata": {
        "colab": {
          "base_uri": "https://localhost:8080/"
        },
        "id": "cVF5Xc0ipWLa",
        "outputId": "16a27fdc-af35-4fff-a255-200722a540b0"
      },
      "execution_count": 7,
      "outputs": [
        {
          "output_type": "stream",
          "name": "stdout",
          "text": [
            "5\n"
          ]
        }
      ]
    },
    {
      "cell_type": "code",
      "source": [
        "#5. Write a Python program to remove duplicates from a list.\n",
        "l=[4,6,3,4,6,8,1]\n",
        "print(set(l))"
      ],
      "metadata": {
        "colab": {
          "base_uri": "https://localhost:8080/"
        },
        "id": "aKyLHcsapaWt",
        "outputId": "e6e4a4d3-fbdd-43e5-e389-746885919967"
      },
      "execution_count": 11,
      "outputs": [
        {
          "output_type": "stream",
          "name": "stdout",
          "text": [
            "{1, 3, 4, 6, 8}\n"
          ]
        }
      ]
    },
    {
      "cell_type": "code",
      "source": [
        "#6. Write a Python program to check if a list is empty or not.\n",
        "l=[]\n",
        "if len(l)==0:\n",
        "  print(\"list is empty\")\n",
        "else:\n",
        "  print(\"List is not empty\")"
      ],
      "metadata": {
        "colab": {
          "base_uri": "https://localhost:8080/"
        },
        "id": "cpMArANsphSu",
        "outputId": "65108516-0e2c-405f-f98a-7d54991ef5c8"
      },
      "execution_count": 14,
      "outputs": [
        {
          "output_type": "stream",
          "name": "stdout",
          "text": [
            "list is empty\n"
          ]
        }
      ]
    },
    {
      "cell_type": "code",
      "source": [
        "#7. Write a Python program to find the length of a tuple.\n",
        "t=(4,6,3,2,4,7)\n",
        "print(len(t))"
      ],
      "metadata": {
        "colab": {
          "base_uri": "https://localhost:8080/"
        },
        "id": "v4KfFfocplAL",
        "outputId": "c3351e27-b78b-4df4-90b3-f2107f2d3512"
      },
      "execution_count": 16,
      "outputs": [
        {
          "output_type": "stream",
          "name": "stdout",
          "text": [
            "6\n"
          ]
        }
      ]
    },
    {
      "cell_type": "code",
      "source": [
        "#8. Write a Python program to find the largest number in a tuple.\n",
        "t=(4,6,3,2,4,7)\n",
        "print(max(t))"
      ],
      "metadata": {
        "colab": {
          "base_uri": "https://localhost:8080/"
        },
        "id": "aNCpBYBcpove",
        "outputId": "b2768d0e-021e-4281-9035-f308aa4bc377"
      },
      "execution_count": 17,
      "outputs": [
        {
          "output_type": "stream",
          "name": "stdout",
          "text": [
            "7\n"
          ]
        }
      ]
    },
    {
      "cell_type": "code",
      "source": [
        "#9. Write a Python program to find the smallest number in a tuple.\n",
        "t=(4,6,3,2,4,7)\n",
        "print(min(t))"
      ],
      "metadata": {
        "colab": {
          "base_uri": "https://localhost:8080/"
        },
        "id": "zZj7CA0jpr-U",
        "outputId": "1541ae72-b176-425f-c6bf-b33279799619"
      },
      "execution_count": 18,
      "outputs": [
        {
          "output_type": "stream",
          "name": "stdout",
          "text": [
            "2\n"
          ]
        }
      ]
    },
    {
      "cell_type": "code",
      "source": [
        "#10. Write a Python program to count the number of elements in a tuple.\n",
        "t=(4,6,3,2,4,7)\n",
        "print(len(t))"
      ],
      "metadata": {
        "colab": {
          "base_uri": "https://localhost:8080/"
        },
        "id": "DqWD2RbhpvM3",
        "outputId": "2d890ae3-a4bc-49da-e3bb-c4d3e8388a74"
      },
      "execution_count": 19,
      "outputs": [
        {
          "output_type": "stream",
          "name": "stdout",
          "text": [
            "6\n"
          ]
        }
      ]
    },
    {
      "cell_type": "code",
      "source": [
        "#11. Write a Python program to check if a tuple is empty or not.\n",
        "t=()\n",
        "if len(t)==0:\n",
        "  print(\"tuple is empty\")\n",
        "else:\n",
        "  print(\"tuple is not empty\")"
      ],
      "metadata": {
        "colab": {
          "base_uri": "https://localhost:8080/"
        },
        "id": "UF_naV_OtaTb",
        "outputId": "f339932f-bc90-43b1-9a04-e12e504800ba"
      },
      "execution_count": 21,
      "outputs": [
        {
          "output_type": "stream",
          "name": "stdout",
          "text": [
            "tuple is empty\n"
          ]
        }
      ]
    },
    {
      "cell_type": "code",
      "source": [
        "#12. Write a Python program to check if a given element exists in a list.\n",
        "l=[3,2,4,6,8]\n",
        "if 6 in l:\n",
        "  print(\"Element exists in a list\")\n",
        "else:\n",
        "    print(\"Element does not exists in a list\")"
      ],
      "metadata": {
        "colab": {
          "base_uri": "https://localhost:8080/"
        },
        "id": "dcyKqEn9tnl1",
        "outputId": "a028258c-8f7c-40d6-b8ed-a9c0fdf3630a"
      },
      "execution_count": 25,
      "outputs": [
        {
          "output_type": "stream",
          "name": "stdout",
          "text": [
            "Element exists in a list\n"
          ]
        }
      ]
    },
    {
      "cell_type": "code",
      "source": [
        "#13. Write a Python program to check if a given element exists in a tuple.\n",
        "t=(5,3,2,7,8)\n",
        "if 2 in t:\n",
        "  print(\"Element exists in a tuple\")\n",
        "else:\n",
        "    print(\"Element does not exists in a tuple\")"
      ],
      "metadata": {
        "colab": {
          "base_uri": "https://localhost:8080/"
        },
        "id": "bfkHgb1ftqiY",
        "outputId": "dfb44ce7-3cf2-4843-d2c5-12722e4b34b5"
      },
      "execution_count": 26,
      "outputs": [
        {
          "output_type": "stream",
          "name": "stdout",
          "text": [
            "Element exists in a tuple\n"
          ]
        }
      ]
    },
    {
      "cell_type": "code",
      "source": [
        "#14. Write a Python program to check if a given key exists in a dictionary.\n",
        "d={\"name\":\"Paramita\", \"city\":\"Kolkata\", \"collage\":\"Techno India\"}\n",
        "if \"city\" in d:\n",
        "  print(\"Element exists in a dictionary\")\n",
        "else:\n",
        "    print(\"Element does not exists in a dictionary\")"
      ],
      "metadata": {
        "colab": {
          "base_uri": "https://localhost:8080/"
        },
        "id": "YjWErpyctt70",
        "outputId": "d0c172f5-5809-40b7-90ac-42456d9a2436"
      },
      "execution_count": 24,
      "outputs": [
        {
          "output_type": "stream",
          "name": "stdout",
          "text": [
            "Element exists in a dictionary\n"
          ]
        }
      ]
    },
    {
      "cell_type": "code",
      "source": [
        "#15. Write a Python program to find the sum of all even numbers in a list.\n",
        "l=[1,2,3,4,5,6,7,8,9]\n",
        "sum=0\n",
        "for i in l:\n",
        "  if i%2==0:\n",
        "    sum+=i\n",
        "print(\"Sum of all even number is: \",sum)"
      ],
      "metadata": {
        "colab": {
          "base_uri": "https://localhost:8080/"
        },
        "id": "OHM0d2T0tw4p",
        "outputId": "63a7f3a9-ac85-471b-aadf-26b53362282b"
      },
      "execution_count": 35,
      "outputs": [
        {
          "output_type": "stream",
          "name": "stdout",
          "text": [
            "Sum of all even number is:  20\n"
          ]
        }
      ]
    },
    {
      "cell_type": "code",
      "source": [
        "#16. Write a Python program to find the sum of all odd numbers in a list.\n",
        "l={1,2,3,4,5,6,7,8,9}\n",
        "sum=0\n",
        "for i in l:\n",
        "  if i % 2 !=0:\n",
        "    sum+=i\n",
        "print(\"Sum of all odd number is: \",sum)"
      ],
      "metadata": {
        "colab": {
          "base_uri": "https://localhost:8080/"
        },
        "id": "r5uxbQLTt1a_",
        "outputId": "198958b8-8e0c-4faa-c15f-44a911576cfa"
      },
      "execution_count": 34,
      "outputs": [
        {
          "output_type": "stream",
          "name": "stdout",
          "text": [
            "Sum of all odd number is:  25\n"
          ]
        }
      ]
    },
    {
      "cell_type": "code",
      "source": [
        "#17. Write a Python program to find the factorial of a number using recursion.\n",
        "def factorial(n):\n",
        "    if n == 0 or n == 1:\n",
        "        return 1\n",
        "    else:\n",
        "        return n * factorial(n - 1)\n",
        "number = 5\n",
        "print(factorial(number))"
      ],
      "metadata": {
        "colab": {
          "base_uri": "https://localhost:8080/"
        },
        "id": "-HZmzssHt4vC",
        "outputId": "a7108926-8de3-4855-97db-1a51d3b64c93"
      },
      "execution_count": 43,
      "outputs": [
        {
          "output_type": "stream",
          "name": "stdout",
          "text": [
            "120\n"
          ]
        }
      ]
    },
    {
      "cell_type": "code",
      "source": [
        "#18. Write a Python program to find the factorial of a number using loop.\n",
        "num = int(input(\"Enter a number: \"))\n",
        "factorial = 1\n",
        "if num < 0:\n",
        "   print(\"Sorry, factorial does not exist for negative numbers\")\n",
        "elif num == 0:\n",
        "   print(\"The factorial of 0 is 1\")\n",
        "else:\n",
        "   for i in range(1,num + 1):\n",
        "       factorial = factorial*i\n",
        "   print(\"The factorial of\",num,\"is\",factorial)"
      ],
      "metadata": {
        "colab": {
          "base_uri": "https://localhost:8080/"
        },
        "id": "_h-trTeMt743",
        "outputId": "252c812e-a0bc-4b30-b20b-f06d4f153e3a"
      },
      "execution_count": 46,
      "outputs": [
        {
          "output_type": "stream",
          "name": "stdout",
          "text": [
            "Enter a number: 4\n",
            "The factorial of 4 is 24\n"
          ]
        }
      ]
    },
    {
      "cell_type": "code",
      "source": [
        "#19. Write a Python program to check if a number is prime or not.\n",
        "num = int(input(\"Enter a number: \"))\n",
        "if num>1:\n",
        "  for i in range(2,num):\n",
        "    if num%i==0:\n",
        "      print(num,\"is not a prime number\")\n",
        "      break\n",
        "  else:\n",
        "    print(num,\"is a prime number\")"
      ],
      "metadata": {
        "colab": {
          "base_uri": "https://localhost:8080/"
        },
        "id": "p-h37Efd2k2e",
        "outputId": "5dc01796-cabb-440d-a29b-7a3f8e719150"
      },
      "execution_count": 52,
      "outputs": [
        {
          "output_type": "stream",
          "name": "stdout",
          "text": [
            "Enter a number: 5\n",
            "5 is a prime number\n"
          ]
        }
      ]
    },
    {
      "cell_type": "code",
      "source": [
        "#20. Write a Python program to find the Fibonacci series up to n terms.\n",
        "# Program to display the Fibonacci sequence up to n-th term\n",
        "\n",
        "nterms = int(input(\"How many terms? \"))\n",
        "n1, n2 = 0, 1\n",
        "count = 0\n",
        "if nterms <= 0:\n",
        "   print(\"Please enter a positive integer\")\n",
        "elif nterms == 1:\n",
        "   print(\"Fibonacci sequence upto\",nterms,\":\")\n",
        "   print(n1)\n",
        "else:\n",
        "   print(\"Fibonacci sequence:\")\n",
        "   while count < nterms:\n",
        "       print(n1)\n",
        "       nth = n1 + n2\n",
        "       n1 = n2\n",
        "       n2 = nth\n",
        "       count += 1"
      ],
      "metadata": {
        "colab": {
          "base_uri": "https://localhost:8080/"
        },
        "id": "KsJw0YGJuB4A",
        "outputId": "1a8de8fc-8019-4a79-88b7-c65cbc792416"
      },
      "execution_count": 57,
      "outputs": [
        {
          "output_type": "stream",
          "name": "stdout",
          "text": [
            "How many terms? 10\n",
            "Fibonacci sequence:\n",
            "0\n",
            "1\n",
            "1\n",
            "2\n",
            "3\n",
            "5\n",
            "8\n",
            "13\n",
            "21\n",
            "34\n"
          ]
        }
      ]
    },
    {
      "cell_type": "code",
      "source": [],
      "metadata": {
        "id": "HeJ0QKQ734Uv"
      },
      "execution_count": null,
      "outputs": []
    }
  ]
}